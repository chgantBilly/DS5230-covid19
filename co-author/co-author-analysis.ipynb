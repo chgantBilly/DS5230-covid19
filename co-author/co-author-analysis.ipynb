{
 "cells": [
  {
   "cell_type": "code",
   "execution_count": 1,
   "id": "frequent-zealand",
   "metadata": {},
   "outputs": [],
   "source": [
    "import re\n",
    "import gc\n",
    "import numpy as np\n",
    "import matplotlib.pyplot as plt\n",
    "import pandas as pd\n",
    "import seaborn as sns\n",
    "import networkx as nx"
   ]
  },
  {
   "cell_type": "code",
   "execution_count": 2,
   "id": "collaborative-function",
   "metadata": {},
   "outputs": [],
   "source": [
    "df = pd.read_csv('../data/metadata_with_tag.csv',\n",
    "                 dtype={'Microsoft Academic Paper ID': str,\n",
    "                        'pubmed_id': str})"
   ]
  },
  {
   "cell_type": "code",
   "execution_count": 3,
   "id": "confident-tampa",
   "metadata": {},
   "outputs": [],
   "source": [
    "df_covid = df[df.tag_disease_covid19]"
   ]
  },
  {
   "cell_type": "markdown",
   "id": "ruled-african",
   "metadata": {},
   "source": [
    "# Preprocessing"
   ]
  },
  {
   "cell_type": "code",
   "execution_count": 4,
   "id": "addressed-packing",
   "metadata": {},
   "outputs": [],
   "source": [
    "df['authors_list'] = df.authors.str.split(\";\")"
   ]
  },
  {
   "cell_type": "code",
   "execution_count": 5,
   "id": "visible-delight",
   "metadata": {},
   "outputs": [],
   "source": [
    "author_papers = df.explode('authors_list')[['authors_list','sha']]\n",
    "author_papers.columns = ['author_name','sha']\n",
    "author_papers = author_papers.dropna()"
   ]
  },
  {
   "cell_type": "code",
   "execution_count": 6,
   "id": "manual-lingerie",
   "metadata": {},
   "outputs": [
    {
     "data": {
      "text/html": [
       "<div>\n",
       "<style scoped>\n",
       "    .dataframe tbody tr th:only-of-type {\n",
       "        vertical-align: middle;\n",
       "    }\n",
       "\n",
       "    .dataframe tbody tr th {\n",
       "        vertical-align: top;\n",
       "    }\n",
       "\n",
       "    .dataframe thead th {\n",
       "        text-align: right;\n",
       "    }\n",
       "</style>\n",
       "<table border=\"1\" class=\"dataframe\">\n",
       "  <thead>\n",
       "    <tr style=\"text-align: right;\">\n",
       "      <th></th>\n",
       "      <th>author_name</th>\n",
       "      <th>sha</th>\n",
       "    </tr>\n",
       "  </thead>\n",
       "  <tbody>\n",
       "    <tr>\n",
       "      <th>0</th>\n",
       "      <td>Madani, Tariq A</td>\n",
       "      <td>d1aafb70c066a2068b02786f8929fd9c900897fb</td>\n",
       "    </tr>\n",
       "    <tr>\n",
       "      <th>0</th>\n",
       "      <td>Al-Ghamdi, Aisha A</td>\n",
       "      <td>d1aafb70c066a2068b02786f8929fd9c900897fb</td>\n",
       "    </tr>\n",
       "    <tr>\n",
       "      <th>1</th>\n",
       "      <td>Vliet, Albert van der</td>\n",
       "      <td>6b0567729c2143a66d737eb0a2f63f2dce2e5a7d</td>\n",
       "    </tr>\n",
       "    <tr>\n",
       "      <th>1</th>\n",
       "      <td>Eiserich, Jason P</td>\n",
       "      <td>6b0567729c2143a66d737eb0a2f63f2dce2e5a7d</td>\n",
       "    </tr>\n",
       "    <tr>\n",
       "      <th>1</th>\n",
       "      <td>Cross, Carroll E</td>\n",
       "      <td>6b0567729c2143a66d737eb0a2f63f2dce2e5a7d</td>\n",
       "    </tr>\n",
       "    <tr>\n",
       "      <th>2</th>\n",
       "      <td>Crouch, Erika C</td>\n",
       "      <td>06ced00a5fc04215949aa72528f2eeaae1d58927</td>\n",
       "    </tr>\n",
       "    <tr>\n",
       "      <th>3</th>\n",
       "      <td>Fagan, Karen A</td>\n",
       "      <td>348055649b6b8cf2b9a376498df9bf41f7123605</td>\n",
       "    </tr>\n",
       "    <tr>\n",
       "      <th>3</th>\n",
       "      <td>McMurtry, Ivan F</td>\n",
       "      <td>348055649b6b8cf2b9a376498df9bf41f7123605</td>\n",
       "    </tr>\n",
       "    <tr>\n",
       "      <th>3</th>\n",
       "      <td>Rodman, David M</td>\n",
       "      <td>348055649b6b8cf2b9a376498df9bf41f7123605</td>\n",
       "    </tr>\n",
       "    <tr>\n",
       "      <th>4</th>\n",
       "      <td>Domachowske, Joseph B</td>\n",
       "      <td>5f48792a5fa08bed9f56016f4981ae2ca6031b32</td>\n",
       "    </tr>\n",
       "  </tbody>\n",
       "</table>\n",
       "</div>"
      ],
      "text/plain": [
       "             author_name                                       sha\n",
       "0        Madani, Tariq A  d1aafb70c066a2068b02786f8929fd9c900897fb\n",
       "0     Al-Ghamdi, Aisha A  d1aafb70c066a2068b02786f8929fd9c900897fb\n",
       "1  Vliet, Albert van der  6b0567729c2143a66d737eb0a2f63f2dce2e5a7d\n",
       "1      Eiserich, Jason P  6b0567729c2143a66d737eb0a2f63f2dce2e5a7d\n",
       "1       Cross, Carroll E  6b0567729c2143a66d737eb0a2f63f2dce2e5a7d\n",
       "2        Crouch, Erika C  06ced00a5fc04215949aa72528f2eeaae1d58927\n",
       "3         Fagan, Karen A  348055649b6b8cf2b9a376498df9bf41f7123605\n",
       "3       McMurtry, Ivan F  348055649b6b8cf2b9a376498df9bf41f7123605\n",
       "3        Rodman, David M  348055649b6b8cf2b9a376498df9bf41f7123605\n",
       "4  Domachowske, Joseph B  5f48792a5fa08bed9f56016f4981ae2ca6031b32"
      ]
     },
     "execution_count": 6,
     "metadata": {},
     "output_type": "execute_result"
    }
   ],
   "source": [
    "author_papers.head(10)"
   ]
  },
  {
   "cell_type": "markdown",
   "id": "boring-roman",
   "metadata": {},
   "source": [
    "## Generalize Names"
   ]
  },
  {
   "cell_type": "code",
   "execution_count": 7,
   "id": "dietary-affair",
   "metadata": {},
   "outputs": [],
   "source": [
    "author_papers['author_name'] = author_papers['author_name'].str.replace(\" \", \"\").str.replace(\".\",\"\").str.replace(',',', ')"
   ]
  },
  {
   "cell_type": "code",
   "execution_count": 8,
   "id": "sound-service",
   "metadata": {},
   "outputs": [],
   "source": [
    "from mlxtend.text import generalize_names"
   ]
  },
  {
   "cell_type": "code",
   "execution_count": 77,
   "id": "southern-printer",
   "metadata": {},
   "outputs": [],
   "source": [
    "unqiue_count =[]\n",
    "for letters in range(1,20,2):\n",
    "    unqiue_count.append(\n",
    "        len(\n",
    "            author_papers['author_name'].apply(\n",
    "                lambda x: generalize_names(x, firstname_output_letters=letters))\n",
    "            .unique()))"
   ]
  },
  {
   "cell_type": "code",
   "execution_count": 78,
   "id": "standard-exhaust",
   "metadata": {},
   "outputs": [
    {
     "name": "stderr",
     "output_type": "stream",
     "text": [
      "/Users/billy/opt/anaconda3/lib/python3.8/site-packages/seaborn/_decorators.py:36: FutureWarning: Pass the following variables as keyword args: x, y. From version 0.12, the only valid positional argument will be `data`, and passing other arguments without an explicit keyword will result in an error or misinterpretation.\n",
      "  warnings.warn(\n"
     ]
    },
    {
     "data": {
      "text/plain": [
       "<matplotlib.axes._subplots.AxesSubplot at 0x7f84ebfc5250>"
      ]
     },
     "execution_count": 78,
     "metadata": {},
     "output_type": "execute_result"
    },
    {
     "data": {
      "image/png": "[encoded data removed]",
      "text/plain": [
       "<Figure size 432x288 with 1 Axes>"
      ]
     },
     "metadata": {
      "needs_background": "light"
     },
     "output_type": "display_data"
    }
   ],
   "source": [
    "sns.lineplot(list( range(1,20,2)), unqiue_count)"
   ]
  },
  {
   "cell_type": "code",
   "execution_count": 9,
   "id": "unable-bible",
   "metadata": {},
   "outputs": [],
   "source": [
    "author_papers['author_name'] = author_papers['author_name'].apply(\n",
    "                lambda x: generalize_names(x, firstname_output_letters=5))"
   ]
  },
  {
   "cell_type": "code",
   "execution_count": 10,
   "id": "collaborative-advancement",
   "metadata": {},
   "outputs": [
    {
     "data": {
      "text/plain": [
       "count     1.218020e+06\n",
       "mean      1.094845e+01\n",
       "std       3.585698e+00\n",
       "min       0.000000e+00\n",
       "50%       1.100000e+01\n",
       "85%       1.400000e+01\n",
       "90%       1.500000e+01\n",
       "95%       1.700000e+01\n",
       "99%       2.100000e+01\n",
       "99.5%     2.200000e+01\n",
       "99.9%     2.500000e+01\n",
       "99.95%    2.600000e+01\n",
       "max       9.800000e+01\n",
       "Name: author_name, dtype: float64"
      ]
     },
     "execution_count": 10,
     "metadata": {},
     "output_type": "execute_result"
    }
   ],
   "source": [
    "author_papers['author_name'].str.len().describe(percentiles=[.85,.9,.95,0.99,0.995,0.999,0.9995])"
   ]
  },
  {
   "cell_type": "code",
   "execution_count": 12,
   "id": "upset-coral",
   "metadata": {},
   "outputs": [],
   "source": [
    "author_papers = author_papers[(author_papers['author_name'].str.len() <= 25) \n",
    "                              & (author_papers['author_name'].str.len() > 0) \n",
    "                              & (author_papers['sha'] != False)\n",
    "                              & (author_papers['author_name'] != 'false')]\n",
    "\n",
    "author_papers['author_name'] = author_papers['author_name'].apply(lambda x:x.title())\n",
    "author_papers.to_csv('../data/author_papers.csv',index=False)"
   ]
  },
  {
   "cell_type": "code",
   "execution_count": 14,
   "id": "according-lingerie",
   "metadata": {},
   "outputs": [],
   "source": [
    "covid_paper = list(df_covid.sha.unique())\n",
    "covid_author_paper = author_papers[author_papers.sha.isin(covid_paper)][['author_name','sha']]"
   ]
  },
  {
   "cell_type": "markdown",
   "id": "large-bread",
   "metadata": {},
   "source": [
    "# EDA"
   ]
  },
  {
   "cell_type": "code",
   "execution_count": 16,
   "id": "sacred-efficiency",
   "metadata": {},
   "outputs": [
    {
     "data": {
      "text/plain": [
       "<matplotlib.axes._subplots.AxesSubplot at 0x7f8bbbff4fd0>"
      ]
     },
     "execution_count": 16,
     "metadata": {},
     "output_type": "execute_result"
    },
    {
     "data": {
      "image/png": "[encoded data removed]",
      "text/plain": [
       "<Figure size 432x288 with 1 Axes>"
      ]
     },
     "metadata": {
      "needs_background": "light"
     },
     "output_type": "display_data"
    }
   ],
   "source": [
    "plt.title('Publications per Author')\n",
    "plt.xlabel('Number of Publications')\n",
    "plt.ylabel('Number of Authors')\n",
    "covid_author_paper.groupby('author_name')['sha'].count().hist(bins=100,log=True)"
   ]
  },
  {
   "cell_type": "code",
   "execution_count": 198,
   "id": "printable-quilt",
   "metadata": {},
   "outputs": [
    {
     "data": {
      "text/plain": [
       "count    365136.000000\n",
       "mean          1.701673\n",
       "std           2.107762\n",
       "min           1.000000\n",
       "50%           1.000000\n",
       "75%           2.000000\n",
       "90%           3.000000\n",
       "95%           4.000000\n",
       "99%          10.000000\n",
       "max         113.000000\n",
       "Name: sha, dtype: float64"
      ]
     },
     "execution_count": 198,
     "metadata": {},
     "output_type": "execute_result"
    }
   ],
   "source": [
    "covid_author_paper.groupby('author_name')['sha'].count().describe(percentiles=[0.75,0.9,0.95,0.99])"
   ]
  },
  {
   "cell_type": "code",
   "execution_count": 20,
   "id": "mechanical-calcium",
   "metadata": {},
   "outputs": [
    {
     "data": {
      "text/plain": [
       "365136"
      ]
     },
     "execution_count": 20,
     "metadata": {},
     "output_type": "execute_result"
    }
   ],
   "source": [
    "len(covid_author_paper.author_name.unique())"
   ]
  },
  {
   "cell_type": "code",
   "execution_count": 199,
   "id": "recent-advantage",
   "metadata": {},
   "outputs": [
    {
     "data": {
      "text/plain": [
       "48259"
      ]
     },
     "execution_count": 199,
     "metadata": {},
     "output_type": "execute_result"
    }
   ],
   "source": [
    "author_paper_cnt = covid_author_paper.groupby('author_name')['sha'].count()\n",
    "author_paper_cnt.name = 'paper_count'\n",
    "filtered_author_index = author_paper_cnt[author_paper_cnt > 2].index.to_list()\n",
    "len(filtered_author_index)"
   ]
  },
  {
   "cell_type": "code",
   "execution_count": 200,
   "id": "available-bernard",
   "metadata": {},
   "outputs": [],
   "source": [
    "filtered_author_papers = covid_author_paper[covid_author_paper['author_name'].isin(filtered_author_index)]"
   ]
  },
  {
   "cell_type": "markdown",
   "id": "correct-anaheim",
   "metadata": {},
   "source": [
    "# Build Network"
   ]
  },
  {
   "cell_type": "code",
   "execution_count": 202,
   "id": "respected-roman",
   "metadata": {},
   "outputs": [],
   "source": [
    "paper_dict = dict(enumerate(list(filtered_author_papers['sha'].unique())))\n",
    "paper_dict = {v:k for k,v in paper_dict.items()}"
   ]
  },
  {
   "cell_type": "code",
   "execution_count": 203,
   "id": "municipal-brook",
   "metadata": {},
   "outputs": [],
   "source": [
    "author_dict = dict(enumerate(list(filtered_author_papers['author_name'].unique())))\n",
    "author_dict = {v:k for k,v in author_dict.items()}"
   ]
  },
  {
   "cell_type": "code",
   "execution_count": 204,
   "id": "future-third",
   "metadata": {},
   "outputs": [],
   "source": [
    "author_paper_tuple = list(zip(filtered_author_papers['author_name'], filtered_author_papers['sha']))"
   ]
  },
  {
   "cell_type": "code",
   "execution_count": 205,
   "id": "proprietary-feeding",
   "metadata": {},
   "outputs": [],
   "source": [
    "author_paper_tuple = [(author_dict[author], paper_dict[paper])for author, paper in author_paper_tuple]"
   ]
  },
  {
   "cell_type": "code",
   "execution_count": 206,
   "id": "caroline-entrepreneur",
   "metadata": {},
   "outputs": [],
   "source": [
    "from scipy.sparse import csc_matrix,lil_matrix"
   ]
  },
  {
   "cell_type": "code",
   "execution_count": 207,
   "id": "dirty-german",
   "metadata": {},
   "outputs": [],
   "source": [
    "#AP[i,j] = 1 indicates that author i published paper j\n",
    "AP = csc_matrix((np.ones(len(author_paper_tuple)), zip(*author_paper_tuple)))\n",
    "##AA[i,j] = 1 indicates that author i published a paper with author j\n",
    "AA = AP.dot(AP.T)"
   ]
  },
  {
   "cell_type": "code",
   "execution_count": 208,
   "id": "spanish-cylinder",
   "metadata": {},
   "outputs": [
    {
     "data": {
      "text/plain": [
       "<48259x48259 sparse matrix of type '<class 'numpy.float64'>'\n",
       "\twith 1354133 stored elements in Compressed Sparse Column format>"
      ]
     },
     "execution_count": 208,
     "metadata": {},
     "output_type": "execute_result"
    }
   ],
   "source": [
    "AA"
   ]
  },
  {
   "cell_type": "code",
   "execution_count": 209,
   "id": "ethical-america",
   "metadata": {},
   "outputs": [],
   "source": [
    "AA = AA.tolil()\n",
    "AA.setdiag(0)"
   ]
  },
  {
   "cell_type": "code",
   "execution_count": 210,
   "id": "encouraging-longer",
   "metadata": {},
   "outputs": [
    {
     "data": {
      "text/plain": [
       "<48259x48259 sparse matrix of type '<class 'numpy.float64'>'\n",
       "\twith 1305874 stored elements in List of Lists format>"
      ]
     },
     "execution_count": 210,
     "metadata": {},
     "output_type": "execute_result"
    }
   ],
   "source": [
    "AA"
   ]
  },
  {
   "cell_type": "code",
   "execution_count": 211,
   "id": "norwegian-stream",
   "metadata": {},
   "outputs": [],
   "source": [
    "#construct graph\n",
    "G = nx.convert_matrix.from_scipy_sparse_matrix(AA)"
   ]
  },
  {
   "cell_type": "markdown",
   "id": "banned-messenger",
   "metadata": {},
   "source": [
    "# Network Analysis"
   ]
  },
  {
   "cell_type": "code",
   "execution_count": 212,
   "id": "aggressive-penalty",
   "metadata": {},
   "outputs": [],
   "source": [
    "degree = nx.degree(G)\n",
    "degree_centrality = nx.degree_centrality(G)\n",
    "#betweenness_centrality = nx.betweenness_centrality(G)"
   ]
  },
  {
   "cell_type": "code",
   "execution_count": 213,
   "id": "native-friendship",
   "metadata": {},
   "outputs": [],
   "source": [
    "df_author = pd.DataFrame(author_dict.items())\n",
    "df_author.columns= ['name','id']"
   ]
  },
  {
   "cell_type": "code",
   "execution_count": 214,
   "id": "numeric-output",
   "metadata": {},
   "outputs": [],
   "source": [
    "df_author['degree'] = df_author['id'].apply(lambda x:degree[x])\n",
    "df_author['degree_centrality'] = df_author['id'].apply(lambda x:degree_centrality[x])\n",
    "#df_author['betweenness_centrality'] = df_author['id'].apply(lambda x:betweenness_centrality[x])"
   ]
  },
  {
   "cell_type": "code",
   "execution_count": 215,
   "id": "compatible-behavior",
   "metadata": {},
   "outputs": [
    {
     "data": {
      "text/plain": [
       "<matplotlib.axes._subplots.AxesSubplot at 0x7f8bf27b4490>"
      ]
     },
     "execution_count": 215,
     "metadata": {},
     "output_type": "execute_result"
    },
    {
     "data": {
      "image/png": "[encoded data removed]",
      "text/plain": [
       "<Figure size 864x360 with 1 Axes>"
      ]
     },
     "metadata": {
      "needs_background": "light"
     },
     "output_type": "display_data"
    }
   ],
   "source": [
    "plt.figure(figsize=(12, 5))\n",
    "plt.title('top10 degree')\n",
    "sns.barplot(data=df_author.sort_values('degree',ascending=False)[:10], \n",
    "            x='name', y='degree')\n"
   ]
  },
  {
   "cell_type": "code",
   "execution_count": 292,
   "id": "painted-equipment",
   "metadata": {},
   "outputs": [
    {
     "data": {
      "text/plain": [
       "<matplotlib.axes._subplots.AxesSubplot at 0x7f8c0681a040>"
      ]
     },
     "execution_count": 292,
     "metadata": {},
     "output_type": "execute_result"
    },
    {
     "data": {
      "image/png": "[encoded data removed]",
      "text/plain": [
       "<Figure size 864x360 with 1 Axes>"
      ]
     },
     "metadata": {
      "needs_background": "light"
     },
     "output_type": "display_data"
    }
   ],
   "source": [
    "plt.figure(figsize=(12, 5))\n",
    "\n",
    "plt.title('top10 degree centrality')\n",
    "sns.barplot(data=df_author.sort_values('degree_centrality',ascending=False)[:10], \n",
    "            x='name', y='degree_centrality')"
   ]
  },
  {
   "cell_type": "markdown",
   "id": "statutory-favorite",
   "metadata": {},
   "source": [
    "# Community Detection"
   ]
  },
  {
   "cell_type": "code",
   "execution_count": 217,
   "id": "patent-booking",
   "metadata": {},
   "outputs": [],
   "source": [
    "import community as community_louvain"
   ]
  },
  {
   "cell_type": "code",
   "execution_count": 218,
   "id": "younger-poverty",
   "metadata": {},
   "outputs": [],
   "source": [
    "partition = community_louvain.best_partition(G)"
   ]
  },
  {
   "cell_type": "code",
   "execution_count": 219,
   "id": "congressional-shelf",
   "metadata": {},
   "outputs": [],
   "source": [
    "df_author['partition'] = df_author['id'].apply(lambda x:partition[x])"
   ]
  },
  {
   "cell_type": "code",
   "execution_count": 222,
   "id": "choice-pricing",
   "metadata": {},
   "outputs": [],
   "source": [
    "dendro = community_louvain.generate_dendrogram(G)"
   ]
  },
  {
   "cell_type": "code",
   "execution_count": 231,
   "id": "dedicated-wrong",
   "metadata": {},
   "outputs": [],
   "source": [
    "df_author = pd.merge(left=df_author, right= author_paper_cnt,how='left',left_on='name',right_on='author_name')\n",
    "df_author_sampled = df_author[df_author.paper_count >= 10]\n",
    "sampled_id = df_author_sampled.id.to_list()"
   ]
  },
  {
   "cell_type": "code",
   "execution_count": 287,
   "id": "wireless-environment",
   "metadata": {},
   "outputs": [],
   "source": [
    "top10_community = list(df_author.groupby(partition).id.count().sort_values(ascending=False)[:10].index)"
   ]
  },
  {
   "cell_type": "code",
   "execution_count": 291,
   "id": "approved-testing",
   "metadata": {},
   "outputs": [
    {
     "data": {
      "text/html": [
       "<div>\n",
       "<style scoped>\n",
       "    .dataframe tbody tr th:only-of-type {\n",
       "        vertical-align: middle;\n",
       "    }\n",
       "\n",
       "    .dataframe tbody tr th {\n",
       "        vertical-align: top;\n",
       "    }\n",
       "\n",
       "    .dataframe thead th {\n",
       "        text-align: right;\n",
       "    }\n",
       "</style>\n",
       "<table border=\"1\" class=\"dataframe\">\n",
       "  <thead>\n",
       "    <tr style=\"text-align: right;\">\n",
       "      <th></th>\n",
       "      <th></th>\n",
       "      <th>name</th>\n",
       "      <th>id</th>\n",
       "      <th>degree</th>\n",
       "      <th>degree_centrality</th>\n",
       "      <th>partition</th>\n",
       "      <th>paper_count</th>\n",
       "    </tr>\n",
       "  </thead>\n",
       "  <tbody>\n",
       "    <tr>\n",
       "      <th rowspan=\"5\" valign=\"top\">1</th>\n",
       "      <th>610</th>\n",
       "      <td>Wang Wei</td>\n",
       "      <td>610</td>\n",
       "      <td>721</td>\n",
       "      <td>0.014941</td>\n",
       "      <td>1</td>\n",
       "      <td>113</td>\n",
       "    </tr>\n",
       "    <tr>\n",
       "      <th>829</th>\n",
       "      <td>Zhang Wei</td>\n",
       "      <td>829</td>\n",
       "      <td>610</td>\n",
       "      <td>0.012640</td>\n",
       "      <td>1</td>\n",
       "      <td>105</td>\n",
       "    </tr>\n",
       "    <tr>\n",
       "      <th>217</th>\n",
       "      <td>Liu Lei</td>\n",
       "      <td>217</td>\n",
       "      <td>468</td>\n",
       "      <td>0.009698</td>\n",
       "      <td>1</td>\n",
       "      <td>88</td>\n",
       "    </tr>\n",
       "    <tr>\n",
       "      <th>776</th>\n",
       "      <td>Li Wei</td>\n",
       "      <td>776</td>\n",
       "      <td>505</td>\n",
       "      <td>0.010465</td>\n",
       "      <td>1</td>\n",
       "      <td>85</td>\n",
       "    </tr>\n",
       "    <tr>\n",
       "      <th>214</th>\n",
       "      <td>Yang Yang</td>\n",
       "      <td>214</td>\n",
       "      <td>404</td>\n",
       "      <td>0.008372</td>\n",
       "      <td>1</td>\n",
       "      <td>79</td>\n",
       "    </tr>\n",
       "    <tr>\n",
       "      <th rowspan=\"5\" valign=\"top\">2</th>\n",
       "      <th>8359</th>\n",
       "      <td>Zhang Yu</td>\n",
       "      <td>8359</td>\n",
       "      <td>357</td>\n",
       "      <td>0.007398</td>\n",
       "      <td>2</td>\n",
       "      <td>50</td>\n",
       "    </tr>\n",
       "    <tr>\n",
       "      <th>10469</th>\n",
       "      <td>Yazdanpanah Yazda</td>\n",
       "      <td>10469</td>\n",
       "      <td>159</td>\n",
       "      <td>0.003295</td>\n",
       "      <td>2</td>\n",
       "      <td>31</td>\n",
       "    </tr>\n",
       "    <tr>\n",
       "      <th>17580</th>\n",
       "      <td>Lina Bruno</td>\n",
       "      <td>17580</td>\n",
       "      <td>158</td>\n",
       "      <td>0.003274</td>\n",
       "      <td>2</td>\n",
       "      <td>30</td>\n",
       "    </tr>\n",
       "    <tr>\n",
       "      <th>1437</th>\n",
       "      <td>Zhang Qian</td>\n",
       "      <td>1437</td>\n",
       "      <td>221</td>\n",
       "      <td>0.004580</td>\n",
       "      <td>2</td>\n",
       "      <td>28</td>\n",
       "    </tr>\n",
       "    <tr>\n",
       "      <th>5293</th>\n",
       "      <td>Hatziioannou Theod</td>\n",
       "      <td>5293</td>\n",
       "      <td>115</td>\n",
       "      <td>0.002383</td>\n",
       "      <td>2</td>\n",
       "      <td>26</td>\n",
       "    </tr>\n",
       "    <tr>\n",
       "      <th rowspan=\"5\" valign=\"top\">4</th>\n",
       "      <th>6041</th>\n",
       "      <td>Zhang Y</td>\n",
       "      <td>6041</td>\n",
       "      <td>346</td>\n",
       "      <td>0.007170</td>\n",
       "      <td>4</td>\n",
       "      <td>69</td>\n",
       "    </tr>\n",
       "    <tr>\n",
       "      <th>4611</th>\n",
       "      <td>Wang Y</td>\n",
       "      <td>4611</td>\n",
       "      <td>327</td>\n",
       "      <td>0.006776</td>\n",
       "      <td>4</td>\n",
       "      <td>67</td>\n",
       "    </tr>\n",
       "    <tr>\n",
       "      <th>9699</th>\n",
       "      <td>Li Y</td>\n",
       "      <td>9699</td>\n",
       "      <td>374</td>\n",
       "      <td>0.007750</td>\n",
       "      <td>4</td>\n",
       "      <td>67</td>\n",
       "    </tr>\n",
       "    <tr>\n",
       "      <th>4456</th>\n",
       "      <td>Liu Y</td>\n",
       "      <td>4456</td>\n",
       "      <td>295</td>\n",
       "      <td>0.006113</td>\n",
       "      <td>4</td>\n",
       "      <td>59</td>\n",
       "    </tr>\n",
       "    <tr>\n",
       "      <th>5094</th>\n",
       "      <td>Wang X</td>\n",
       "      <td>5094</td>\n",
       "      <td>291</td>\n",
       "      <td>0.006030</td>\n",
       "      <td>4</td>\n",
       "      <td>59</td>\n",
       "    </tr>\n",
       "    <tr>\n",
       "      <th rowspan=\"5\" valign=\"top\">5</th>\n",
       "      <th>93</th>\n",
       "      <td>Rodriguezmorales Alfon</td>\n",
       "      <td>93</td>\n",
       "      <td>115</td>\n",
       "      <td>0.002383</td>\n",
       "      <td>5</td>\n",
       "      <td>66</td>\n",
       "    </tr>\n",
       "    <tr>\n",
       "      <th>770</th>\n",
       "      <td>Dhama Kulde</td>\n",
       "      <td>770</td>\n",
       "      <td>93</td>\n",
       "      <td>0.001927</td>\n",
       "      <td>5</td>\n",
       "      <td>51</td>\n",
       "    </tr>\n",
       "    <tr>\n",
       "      <th>2888</th>\n",
       "      <td>Kumar Amit</td>\n",
       "      <td>2888</td>\n",
       "      <td>43</td>\n",
       "      <td>0.000891</td>\n",
       "      <td>5</td>\n",
       "      <td>35</td>\n",
       "    </tr>\n",
       "    <tr>\n",
       "      <th>168</th>\n",
       "      <td>Vaishya Raju</td>\n",
       "      <td>168</td>\n",
       "      <td>17</td>\n",
       "      <td>0.000352</td>\n",
       "      <td>5</td>\n",
       "      <td>33</td>\n",
       "    </tr>\n",
       "    <tr>\n",
       "      <th>769</th>\n",
       "      <td>Tiwari Ruchi</td>\n",
       "      <td>769</td>\n",
       "      <td>58</td>\n",
       "      <td>0.001202</td>\n",
       "      <td>5</td>\n",
       "      <td>30</td>\n",
       "    </tr>\n",
       "    <tr>\n",
       "      <th rowspan=\"5\" valign=\"top\">6</th>\n",
       "      <th>12937</th>\n",
       "      <td>Bassetti Matte</td>\n",
       "      <td>12937</td>\n",
       "      <td>157</td>\n",
       "      <td>0.003253</td>\n",
       "      <td>6</td>\n",
       "      <td>40</td>\n",
       "    </tr>\n",
       "    <tr>\n",
       "      <th>3111</th>\n",
       "      <td>Bruno Raffa</td>\n",
       "      <td>3111</td>\n",
       "      <td>239</td>\n",
       "      <td>0.004953</td>\n",
       "      <td>6</td>\n",
       "      <td>38</td>\n",
       "    </tr>\n",
       "    <tr>\n",
       "      <th>3112</th>\n",
       "      <td>Baldanti Faust</td>\n",
       "      <td>3112</td>\n",
       "      <td>164</td>\n",
       "      <td>0.003398</td>\n",
       "      <td>6</td>\n",
       "      <td>36</td>\n",
       "    </tr>\n",
       "    <tr>\n",
       "      <th>13078</th>\n",
       "      <td>Buonsenso Danil</td>\n",
       "      <td>13078</td>\n",
       "      <td>106</td>\n",
       "      <td>0.002197</td>\n",
       "      <td>6</td>\n",
       "      <td>36</td>\n",
       "    </tr>\n",
       "    <tr>\n",
       "      <th>9330</th>\n",
       "      <td>Pelosi Paolo</td>\n",
       "      <td>9330</td>\n",
       "      <td>128</td>\n",
       "      <td>0.002652</td>\n",
       "      <td>6</td>\n",
       "      <td>32</td>\n",
       "    </tr>\n",
       "    <tr>\n",
       "      <th rowspan=\"5\" valign=\"top\">24</th>\n",
       "      <th>145</th>\n",
       "      <td>Galli Massi</td>\n",
       "      <td>145</td>\n",
       "      <td>262</td>\n",
       "      <td>0.005429</td>\n",
       "      <td>24</td>\n",
       "      <td>39</td>\n",
       "    </tr>\n",
       "    <tr>\n",
       "      <th>13885</th>\n",
       "      <td>Mastroianni Claud</td>\n",
       "      <td>13885</td>\n",
       "      <td>114</td>\n",
       "      <td>0.002362</td>\n",
       "      <td>24</td>\n",
       "      <td>30</td>\n",
       "    </tr>\n",
       "    <tr>\n",
       "      <th>3775</th>\n",
       "      <td>Landoni Giova</td>\n",
       "      <td>3775</td>\n",
       "      <td>106</td>\n",
       "      <td>0.002197</td>\n",
       "      <td>24</td>\n",
       "      <td>29</td>\n",
       "    </tr>\n",
       "    <tr>\n",
       "      <th>4327</th>\n",
       "      <td>Dagna Loren</td>\n",
       "      <td>4327</td>\n",
       "      <td>105</td>\n",
       "      <td>0.002176</td>\n",
       "      <td>24</td>\n",
       "      <td>29</td>\n",
       "    </tr>\n",
       "    <tr>\n",
       "      <th>4417</th>\n",
       "      <td>Zangrillo Alber</td>\n",
       "      <td>4417</td>\n",
       "      <td>101</td>\n",
       "      <td>0.002093</td>\n",
       "      <td>24</td>\n",
       "      <td>29</td>\n",
       "    </tr>\n",
       "    <tr>\n",
       "      <th rowspan=\"5\" valign=\"top\">30</th>\n",
       "      <th>6279</th>\n",
       "      <td>Liu Chang</td>\n",
       "      <td>6279</td>\n",
       "      <td>302</td>\n",
       "      <td>0.006258</td>\n",
       "      <td>30</td>\n",
       "      <td>39</td>\n",
       "    </tr>\n",
       "    <tr>\n",
       "      <th>5402</th>\n",
       "      <td>Carroll Miles</td>\n",
       "      <td>5402</td>\n",
       "      <td>347</td>\n",
       "      <td>0.007191</td>\n",
       "      <td>30</td>\n",
       "      <td>37</td>\n",
       "    </tr>\n",
       "    <tr>\n",
       "      <th>2065</th>\n",
       "      <td>Chen Cheng</td>\n",
       "      <td>2065</td>\n",
       "      <td>216</td>\n",
       "      <td>0.004476</td>\n",
       "      <td>30</td>\n",
       "      <td>32</td>\n",
       "    </tr>\n",
       "    <tr>\n",
       "      <th>10564</th>\n",
       "      <td>Hsueh Poren</td>\n",
       "      <td>10564</td>\n",
       "      <td>50</td>\n",
       "      <td>0.001036</td>\n",
       "      <td>30</td>\n",
       "      <td>32</td>\n",
       "    </tr>\n",
       "    <tr>\n",
       "      <th>7769</th>\n",
       "      <td>Li Yong</td>\n",
       "      <td>7769</td>\n",
       "      <td>136</td>\n",
       "      <td>0.002818</td>\n",
       "      <td>30</td>\n",
       "      <td>25</td>\n",
       "    </tr>\n",
       "    <tr>\n",
       "      <th rowspan=\"5\" valign=\"top\">32</th>\n",
       "      <th>1138</th>\n",
       "      <td>Lee Chang</td>\n",
       "      <td>1138</td>\n",
       "      <td>167</td>\n",
       "      <td>0.003461</td>\n",
       "      <td>32</td>\n",
       "      <td>43</td>\n",
       "    </tr>\n",
       "    <tr>\n",
       "      <th>6699</th>\n",
       "      <td>Drosten Chris</td>\n",
       "      <td>6699</td>\n",
       "      <td>249</td>\n",
       "      <td>0.005160</td>\n",
       "      <td>32</td>\n",
       "      <td>42</td>\n",
       "    </tr>\n",
       "    <tr>\n",
       "      <th>4788</th>\n",
       "      <td>Ciesek Sandr</td>\n",
       "      <td>4788</td>\n",
       "      <td>117</td>\n",
       "      <td>0.002424</td>\n",
       "      <td>32</td>\n",
       "      <td>38</td>\n",
       "    </tr>\n",
       "    <tr>\n",
       "      <th>6943</th>\n",
       "      <td>Koopmans Mario</td>\n",
       "      <td>6943</td>\n",
       "      <td>136</td>\n",
       "      <td>0.002818</td>\n",
       "      <td>32</td>\n",
       "      <td>38</td>\n",
       "    </tr>\n",
       "    <tr>\n",
       "      <th>6694</th>\n",
       "      <td>Corman Victo</td>\n",
       "      <td>6694</td>\n",
       "      <td>193</td>\n",
       "      <td>0.003999</td>\n",
       "      <td>32</td>\n",
       "      <td>35</td>\n",
       "    </tr>\n",
       "    <tr>\n",
       "      <th rowspan=\"5\" valign=\"top\">41</th>\n",
       "      <th>735</th>\n",
       "      <td>Li Yan</td>\n",
       "      <td>735</td>\n",
       "      <td>593</td>\n",
       "      <td>0.012288</td>\n",
       "      <td>41</td>\n",
       "      <td>82</td>\n",
       "    </tr>\n",
       "    <tr>\n",
       "      <th>20894</th>\n",
       "      <td>Zhang Jing</td>\n",
       "      <td>20894</td>\n",
       "      <td>436</td>\n",
       "      <td>0.009035</td>\n",
       "      <td>41</td>\n",
       "      <td>56</td>\n",
       "    </tr>\n",
       "    <tr>\n",
       "      <th>1514</th>\n",
       "      <td>Jerome Keith</td>\n",
       "      <td>1514</td>\n",
       "      <td>255</td>\n",
       "      <td>0.005284</td>\n",
       "      <td>41</td>\n",
       "      <td>51</td>\n",
       "    </tr>\n",
       "    <tr>\n",
       "      <th>1515</th>\n",
       "      <td>Greninger Alexa</td>\n",
       "      <td>1515</td>\n",
       "      <td>250</td>\n",
       "      <td>0.005180</td>\n",
       "      <td>41</td>\n",
       "      <td>51</td>\n",
       "    </tr>\n",
       "    <tr>\n",
       "      <th>3228</th>\n",
       "      <td>Chu Helen</td>\n",
       "      <td>3228</td>\n",
       "      <td>293</td>\n",
       "      <td>0.006072</td>\n",
       "      <td>41</td>\n",
       "      <td>39</td>\n",
       "    </tr>\n",
       "    <tr>\n",
       "      <th rowspan=\"5\" valign=\"top\">124</th>\n",
       "      <th>4860</th>\n",
       "      <td>Baric Ralph</td>\n",
       "      <td>4860</td>\n",
       "      <td>525</td>\n",
       "      <td>0.010879</td>\n",
       "      <td>124</td>\n",
       "      <td>64</td>\n",
       "    </tr>\n",
       "    <tr>\n",
       "      <th>4365</th>\n",
       "      <td>Zhang Yi</td>\n",
       "      <td>4365</td>\n",
       "      <td>362</td>\n",
       "      <td>0.007501</td>\n",
       "      <td>124</td>\n",
       "      <td>53</td>\n",
       "    </tr>\n",
       "    <tr>\n",
       "      <th>4941</th>\n",
       "      <td>Diamond Micha</td>\n",
       "      <td>4941</td>\n",
       "      <td>240</td>\n",
       "      <td>0.004973</td>\n",
       "      <td>124</td>\n",
       "      <td>49</td>\n",
       "    </tr>\n",
       "    <tr>\n",
       "      <th>734</th>\n",
       "      <td>Wang Xin</td>\n",
       "      <td>734</td>\n",
       "      <td>233</td>\n",
       "      <td>0.004828</td>\n",
       "      <td>124</td>\n",
       "      <td>39</td>\n",
       "    </tr>\n",
       "    <tr>\n",
       "      <th>6822</th>\n",
       "      <td>Shi Peiyo</td>\n",
       "      <td>6822</td>\n",
       "      <td>202</td>\n",
       "      <td>0.004186</td>\n",
       "      <td>124</td>\n",
       "      <td>37</td>\n",
       "    </tr>\n",
       "  </tbody>\n",
       "</table>\n",
       "</div>"
      ],
      "text/plain": [
       "                             name     id  degree  degree_centrality  \\\n",
       "1   610                  Wang Wei    610     721           0.014941   \n",
       "    829                 Zhang Wei    829     610           0.012640   \n",
       "    217                   Liu Lei    217     468           0.009698   \n",
       "    776                    Li Wei    776     505           0.010465   \n",
       "    214                 Yang Yang    214     404           0.008372   \n",
       "2   8359                 Zhang Yu   8359     357           0.007398   \n",
       "    10469       Yazdanpanah Yazda  10469     159           0.003295   \n",
       "    17580              Lina Bruno  17580     158           0.003274   \n",
       "    1437               Zhang Qian   1437     221           0.004580   \n",
       "    5293       Hatziioannou Theod   5293     115           0.002383   \n",
       "4   6041                  Zhang Y   6041     346           0.007170   \n",
       "    4611                   Wang Y   4611     327           0.006776   \n",
       "    9699                     Li Y   9699     374           0.007750   \n",
       "    4456                    Liu Y   4456     295           0.006113   \n",
       "    5094                   Wang X   5094     291           0.006030   \n",
       "5   93     Rodriguezmorales Alfon     93     115           0.002383   \n",
       "    770               Dhama Kulde    770      93           0.001927   \n",
       "    2888               Kumar Amit   2888      43           0.000891   \n",
       "    168              Vaishya Raju    168      17           0.000352   \n",
       "    769              Tiwari Ruchi    769      58           0.001202   \n",
       "6   12937          Bassetti Matte  12937     157           0.003253   \n",
       "    3111              Bruno Raffa   3111     239           0.004953   \n",
       "    3112           Baldanti Faust   3112     164           0.003398   \n",
       "    13078         Buonsenso Danil  13078     106           0.002197   \n",
       "    9330             Pelosi Paolo   9330     128           0.002652   \n",
       "24  145               Galli Massi    145     262           0.005429   \n",
       "    13885       Mastroianni Claud  13885     114           0.002362   \n",
       "    3775            Landoni Giova   3775     106           0.002197   \n",
       "    4327              Dagna Loren   4327     105           0.002176   \n",
       "    4417          Zangrillo Alber   4417     101           0.002093   \n",
       "30  6279                Liu Chang   6279     302           0.006258   \n",
       "    5402            Carroll Miles   5402     347           0.007191   \n",
       "    2065               Chen Cheng   2065     216           0.004476   \n",
       "    10564             Hsueh Poren  10564      50           0.001036   \n",
       "    7769                  Li Yong   7769     136           0.002818   \n",
       "32  1138                Lee Chang   1138     167           0.003461   \n",
       "    6699            Drosten Chris   6699     249           0.005160   \n",
       "    4788             Ciesek Sandr   4788     117           0.002424   \n",
       "    6943           Koopmans Mario   6943     136           0.002818   \n",
       "    6694             Corman Victo   6694     193           0.003999   \n",
       "41  735                    Li Yan    735     593           0.012288   \n",
       "    20894              Zhang Jing  20894     436           0.009035   \n",
       "    1514             Jerome Keith   1514     255           0.005284   \n",
       "    1515          Greninger Alexa   1515     250           0.005180   \n",
       "    3228                Chu Helen   3228     293           0.006072   \n",
       "124 4860              Baric Ralph   4860     525           0.010879   \n",
       "    4365                 Zhang Yi   4365     362           0.007501   \n",
       "    4941            Diamond Micha   4941     240           0.004973   \n",
       "    734                  Wang Xin    734     233           0.004828   \n",
       "    6822                Shi Peiyo   6822     202           0.004186   \n",
       "\n",
       "           partition  paper_count  \n",
       "1   610            1          113  \n",
       "    829            1          105  \n",
       "    217            1           88  \n",
       "    776            1           85  \n",
       "    214            1           79  \n",
       "2   8359           2           50  \n",
       "    10469          2           31  \n",
       "    17580          2           30  \n",
       "    1437           2           28  \n",
       "    5293           2           26  \n",
       "4   6041           4           69  \n",
       "    4611           4           67  \n",
       "    9699           4           67  \n",
       "    4456           4           59  \n",
       "    5094           4           59  \n",
       "5   93             5           66  \n",
       "    770            5           51  \n",
       "    2888           5           35  \n",
       "    168            5           33  \n",
       "    769            5           30  \n",
       "6   12937          6           40  \n",
       "    3111           6           38  \n",
       "    3112           6           36  \n",
       "    13078          6           36  \n",
       "    9330           6           32  \n",
       "24  145           24           39  \n",
       "    13885         24           30  \n",
       "    3775          24           29  \n",
       "    4327          24           29  \n",
       "    4417          24           29  \n",
       "30  6279          30           39  \n",
       "    5402          30           37  \n",
       "    2065          30           32  \n",
       "    10564         30           32  \n",
       "    7769          30           25  \n",
       "32  1138          32           43  \n",
       "    6699          32           42  \n",
       "    4788          32           38  \n",
       "    6943          32           38  \n",
       "    6694          32           35  \n",
       "41  735           41           82  \n",
       "    20894         41           56  \n",
       "    1514          41           51  \n",
       "    1515          41           51  \n",
       "    3228          41           39  \n",
       "124 4860         124           64  \n",
       "    4365         124           53  \n",
       "    4941         124           49  \n",
       "    734          124           39  \n",
       "    6822         124           37  "
      ]
     },
     "execution_count": 291,
     "metadata": {},
     "output_type": "execute_result"
    }
   ],
   "source": [
    "df_author[\n",
    "    df_author.partition.isin(top10_community)].groupby(partition).apply(\n",
    "    lambda x: x.nlargest(5, 'paper_count'))"
   ]
  },
  {
   "cell_type": "markdown",
   "id": "fatal-spank",
   "metadata": {},
   "source": [
    "# TODO\n",
    "1. Visualization\n",
    "2. Other metrics \n",
    "3. Other algorithms \n",
    "4. With paper topic model"
   ]
  },
  {
   "cell_type": "code",
   "execution_count": null,
   "id": "mounted-acting",
   "metadata": {},
   "outputs": [],
   "source": []
  }
 ],
 "metadata": {
  "kernelspec": {
   "display_name": "Python 3",
   "language": "python",
   "name": "python3"
  },
  "language_info": {
   "codemirror_mode": {
    "name": "ipython",
    "version": 3
   },
   "file_extension": ".py",
   "mimetype": "text/x-python",
   "name": "python",
   "nbconvert_exporter": "python",
   "pygments_lexer": "ipython3",
   "version": "3.8.5"
  }
 },
 "nbformat": 4,
 "nbformat_minor": 5
}
