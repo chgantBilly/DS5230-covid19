{
 "cells": [
  {
   "cell_type": "code",
   "execution_count": 14,
   "id": "vocal-making",
   "metadata": {},
   "outputs": [],
   "source": [
    "import re\n",
    "import gc\n",
    "import numpy as np\n",
    "import matplotlib.pyplot as plt\n",
    "import pandas as pd\n",
    "import seaborn as sns\n",
    "import networkx as nx\n",
    "sns.set_style(\"ticks\")\n"
   ]
  },
  {
   "cell_type": "code",
   "execution_count": 2,
   "id": "integrated-football",
   "metadata": {},
   "outputs": [],
   "source": [
    "df = pd.read_csv('../data/metadata_with_tag.csv',\n",
    "                 dtype={'Microsoft Academic Paper ID': str,\n",
    "                        'pubmed_id': str})"
   ]
  },
  {
   "cell_type": "code",
   "execution_count": 3,
   "id": "headed-pricing",
   "metadata": {},
   "outputs": [],
   "source": [
    "df_covid = df[df.tag_disease_covid19]"
   ]
  },
  {
   "cell_type": "markdown",
   "id": "available-romance",
   "metadata": {},
   "source": [
    "# Preprocessing"
   ]
  },
  {
   "cell_type": "code",
   "execution_count": 317,
   "id": "incomplete-bathroom",
   "metadata": {},
   "outputs": [],
   "source": [
    "df['authors_list'] = df.authors.str.split(\";\")"
   ]
  },
  {
   "cell_type": "code",
   "execution_count": 318,
   "id": "distributed-terror",
   "metadata": {},
   "outputs": [],
   "source": [
    "author_papers = df.explode('authors_list')[['authors_list','sha']]\n",
    "author_papers.columns = ['author_name','sha']\n",
    "author_papers = author_papers.dropna()"
   ]
  },
  {
   "cell_type": "code",
   "execution_count": 319,
   "id": "preliminary-record",
   "metadata": {},
   "outputs": [
    {
     "data": {
      "text/html": [
       "<div>\n",
       "<style scoped>\n",
       "    .dataframe tbody tr th:only-of-type {\n",
       "        vertical-align: middle;\n",
       "    }\n",
       "\n",
       "    .dataframe tbody tr th {\n",
       "        vertical-align: top;\n",
       "    }\n",
       "\n",
       "    .dataframe thead th {\n",
       "        text-align: right;\n",
       "    }\n",
       "</style>\n",
       "<table border=\"1\" class=\"dataframe\">\n",
       "  <thead>\n",
       "    <tr style=\"text-align: right;\">\n",
       "      <th></th>\n",
       "      <th>author_name</th>\n",
       "      <th>sha</th>\n",
       "    </tr>\n",
       "  </thead>\n",
       "  <tbody>\n",
       "    <tr>\n",
       "      <th>0</th>\n",
       "      <td>Madani, Tariq A</td>\n",
       "      <td>d1aafb70c066a2068b02786f8929fd9c900897fb</td>\n",
       "    </tr>\n",
       "    <tr>\n",
       "      <th>0</th>\n",
       "      <td>Al-Ghamdi, Aisha A</td>\n",
       "      <td>d1aafb70c066a2068b02786f8929fd9c900897fb</td>\n",
       "    </tr>\n",
       "    <tr>\n",
       "      <th>1</th>\n",
       "      <td>Vliet, Albert van der</td>\n",
       "      <td>6b0567729c2143a66d737eb0a2f63f2dce2e5a7d</td>\n",
       "    </tr>\n",
       "    <tr>\n",
       "      <th>1</th>\n",
       "      <td>Eiserich, Jason P</td>\n",
       "      <td>6b0567729c2143a66d737eb0a2f63f2dce2e5a7d</td>\n",
       "    </tr>\n",
       "    <tr>\n",
       "      <th>1</th>\n",
       "      <td>Cross, Carroll E</td>\n",
       "      <td>6b0567729c2143a66d737eb0a2f63f2dce2e5a7d</td>\n",
       "    </tr>\n",
       "    <tr>\n",
       "      <th>2</th>\n",
       "      <td>Crouch, Erika C</td>\n",
       "      <td>06ced00a5fc04215949aa72528f2eeaae1d58927</td>\n",
       "    </tr>\n",
       "    <tr>\n",
       "      <th>3</th>\n",
       "      <td>Fagan, Karen A</td>\n",
       "      <td>348055649b6b8cf2b9a376498df9bf41f7123605</td>\n",
       "    </tr>\n",
       "    <tr>\n",
       "      <th>3</th>\n",
       "      <td>McMurtry, Ivan F</td>\n",
       "      <td>348055649b6b8cf2b9a376498df9bf41f7123605</td>\n",
       "    </tr>\n",
       "    <tr>\n",
       "      <th>3</th>\n",
       "      <td>Rodman, David M</td>\n",
       "      <td>348055649b6b8cf2b9a376498df9bf41f7123605</td>\n",
       "    </tr>\n",
       "    <tr>\n",
       "      <th>4</th>\n",
       "      <td>Domachowske, Joseph B</td>\n",
       "      <td>5f48792a5fa08bed9f56016f4981ae2ca6031b32</td>\n",
       "    </tr>\n",
       "  </tbody>\n",
       "</table>\n",
       "</div>"
      ],
      "text/plain": [
       "             author_name                                       sha\n",
       "0        Madani, Tariq A  d1aafb70c066a2068b02786f8929fd9c900897fb\n",
       "0     Al-Ghamdi, Aisha A  d1aafb70c066a2068b02786f8929fd9c900897fb\n",
       "1  Vliet, Albert van der  6b0567729c2143a66d737eb0a2f63f2dce2e5a7d\n",
       "1      Eiserich, Jason P  6b0567729c2143a66d737eb0a2f63f2dce2e5a7d\n",
       "1       Cross, Carroll E  6b0567729c2143a66d737eb0a2f63f2dce2e5a7d\n",
       "2        Crouch, Erika C  06ced00a5fc04215949aa72528f2eeaae1d58927\n",
       "3         Fagan, Karen A  348055649b6b8cf2b9a376498df9bf41f7123605\n",
       "3       McMurtry, Ivan F  348055649b6b8cf2b9a376498df9bf41f7123605\n",
       "3        Rodman, David M  348055649b6b8cf2b9a376498df9bf41f7123605\n",
       "4  Domachowske, Joseph B  5f48792a5fa08bed9f56016f4981ae2ca6031b32"
      ]
     },
     "execution_count": 319,
     "metadata": {},
     "output_type": "execute_result"
    }
   ],
   "source": [
    "author_papers.head(10)"
   ]
  },
  {
   "cell_type": "markdown",
   "id": "colored-biotechnology",
   "metadata": {},
   "source": [
    "## Generalize Names"
   ]
  },
  {
   "cell_type": "code",
   "execution_count": 320,
   "id": "continent-brook",
   "metadata": {},
   "outputs": [],
   "source": [
    "author_papers['author_name'] = author_papers['author_name'].str.replace(\" \", \"\").str.replace(\".\",\"\").str.replace(',',', ')"
   ]
  },
  {
   "cell_type": "code",
   "execution_count": 321,
   "id": "resident-projection",
   "metadata": {},
   "outputs": [],
   "source": [
    "from mlxtend.text import generalize_names"
   ]
  },
  {
   "cell_type": "code",
   "execution_count": 77,
   "id": "further-executive",
   "metadata": {},
   "outputs": [],
   "source": [
    "unqiue_count =[]\n",
    "for letters in range(1,20,2):\n",
    "    unqiue_count.append(\n",
    "        len(\n",
    "            author_papers['author_name'].apply(\n",
    "                lambda x: generalize_names(x, firstname_output_letters=letters))\n",
    "            .unique()))"
   ]
  },
  {
   "cell_type": "code",
   "execution_count": 78,
   "id": "protected-plane",
   "metadata": {},
   "outputs": [
    {
     "name": "stderr",
     "output_type": "stream",
     "text": [
      "/Users/billy/opt/anaconda3/lib/python3.8/site-packages/seaborn/_decorators.py:36: FutureWarning: Pass the following variables as keyword args: x, y. From version 0.12, the only valid positional argument will be `data`, and passing other arguments without an explicit keyword will result in an error or misinterpretation.\n",
      "  warnings.warn(\n"
     ]
    },
    {
     "data": {
      "text/plain": [
       "<matplotlib.axes._subplots.AxesSubplot at 0x7f84ebfc5250>"
      ]
     },
     "execution_count": 78,
     "metadata": {},
     "output_type": "execute_result"
    },
    {
     "data": {
      "image/png": "[encoded data removed]",
      "text/plain": [
       "<Figure size 432x288 with 1 Axes>"
      ]
     },
     "metadata": {
      "needs_background": "light"
     },
     "output_type": "display_data"
    }
   ],
   "source": [
    "sns.lineplot(list( range(1,20,2)), unqiue_count)"
   ]
  },
  {
   "cell_type": "code",
   "execution_count": 322,
   "id": "fifteen-group",
   "metadata": {},
   "outputs": [],
   "source": [
    "author_papers['author_name'] = author_papers['author_name'].apply(\n",
    "                lambda x: generalize_names(x, firstname_output_letters=5))"
   ]
  },
  {
   "cell_type": "code",
   "execution_count": 323,
   "id": "expected-procurement",
   "metadata": {},
   "outputs": [
    {
     "data": {
      "text/plain": [
       "count     1.218020e+06\n",
       "mean      1.094845e+01\n",
       "std       3.585698e+00\n",
       "min       0.000000e+00\n",
       "50%       1.100000e+01\n",
       "85%       1.400000e+01\n",
       "90%       1.500000e+01\n",
       "95%       1.700000e+01\n",
       "99%       2.100000e+01\n",
       "99.5%     2.200000e+01\n",
       "99.9%     2.500000e+01\n",
       "99.95%    2.600000e+01\n",
       "max       9.800000e+01\n",
       "Name: author_name, dtype: float64"
      ]
     },
     "execution_count": 323,
     "metadata": {},
     "output_type": "execute_result"
    }
   ],
   "source": [
    "author_papers['author_name'].str.len().describe(percentiles=[.85,.9,.95,0.99,0.995,0.999,0.9995])"
   ]
  },
  {
   "cell_type": "code",
   "execution_count": 324,
   "id": "environmental-tuition",
   "metadata": {},
   "outputs": [],
   "source": [
    "author_papers = author_papers[(author_papers['author_name'].str.len() <= 25) \n",
    "                              & (author_papers['author_name'].str.len() > 0) \n",
    "                              & (author_papers['sha'] != False)\n",
    "                              & (author_papers['author_name'] != 'false')]\n",
    "\n",
    "author_papers['author_name'] = author_papers['author_name'].apply(lambda x:x.title())\n",
    "author_papers.to_csv('../data/author_papers.csv',index=False)"
   ]
  },
  {
   "cell_type": "code",
   "execution_count": 325,
   "id": "surgical-rachel",
   "metadata": {},
   "outputs": [
    {
     "data": {
      "text/plain": [
       "365136"
      ]
     },
     "execution_count": 325,
     "metadata": {},
     "output_type": "execute_result"
    }
   ],
   "source": [
    "len(covid_author_paper.author_name.unique())"
   ]
  },
  {
   "cell_type": "code",
   "execution_count": 326,
   "id": "durable-enhancement",
   "metadata": {},
   "outputs": [],
   "source": [
    "covid_paper = list(df_covid.sha.unique())\n",
    "covid_author_paper = author_papers[author_papers.sha.isin(covid_paper)][['author_name','sha']]"
   ]
  },
  {
   "cell_type": "markdown",
   "id": "finnish-member",
   "metadata": {},
   "source": [
    "# EDA"
   ]
  },
  {
   "cell_type": "code",
   "execution_count": 327,
   "id": "military-booking",
   "metadata": {},
   "outputs": [
    {
     "data": {
      "image/png": "[encoded data removed]",
      "text/plain": [
       "<Figure size 432x288 with 1 Axes>"
      ]
     },
     "metadata": {},
     "output_type": "display_data"
    }
   ],
   "source": [
    "plt.title('Publications per Author')\n",
    "plt.xlabel('Number of Publications')\n",
    "plt.ylabel('Number of Authors')\n",
    "covid_author_paper.groupby('author_name')['sha'].count().hist(bins=50,log=True)\n",
    "plt.savefig('./pic/author_papers_hist.pdf')"
   ]
  },
  {
   "cell_type": "code",
   "execution_count": 328,
   "id": "after-ranch",
   "metadata": {},
   "outputs": [
    {
     "data": {
      "text/plain": [
       "count    365136.000000\n",
       "mean          1.701673\n",
       "std           2.107762\n",
       "min           1.000000\n",
       "50%           1.000000\n",
       "75%           2.000000\n",
       "90%           3.000000\n",
       "95%           4.000000\n",
       "99%          10.000000\n",
       "max         113.000000\n",
       "Name: sha, dtype: float64"
      ]
     },
     "execution_count": 328,
     "metadata": {},
     "output_type": "execute_result"
    }
   ],
   "source": [
    "covid_author_paper.groupby('author_name')['sha'].count().describe(percentiles=[0.75,0.9,0.95,0.99])"
   ]
  },
  {
   "cell_type": "code",
   "execution_count": 329,
   "id": "handy-steal",
   "metadata": {},
   "outputs": [
    {
     "data": {
      "text/plain": [
       "365136"
      ]
     },
     "execution_count": 329,
     "metadata": {},
     "output_type": "execute_result"
    }
   ],
   "source": [
    "len(covid_author_paper.author_name.unique())"
   ]
  },
  {
   "cell_type": "code",
   "execution_count": 330,
   "id": "ambient-heaven",
   "metadata": {},
   "outputs": [
    {
     "data": {
      "text/plain": [
       "3822"
      ]
     },
     "execution_count": 330,
     "metadata": {},
     "output_type": "execute_result"
    }
   ],
   "source": [
    "author_paper_cnt = covid_author_paper.groupby('author_name')['sha'].count()\n",
    "author_paper_cnt.name = 'paper_count'\n",
    "filtered_author_index = author_paper_cnt[author_paper_cnt >= 10].index.to_list()\n",
    "len(filtered_author_index)"
   ]
  },
  {
   "cell_type": "code",
   "execution_count": 331,
   "id": "injured-thomson",
   "metadata": {},
   "outputs": [],
   "source": [
    "filtered_author_papers = covid_author_paper[covid_author_paper['author_name'].isin(filtered_author_index)]"
   ]
  },
  {
   "cell_type": "code",
   "execution_count": 332,
   "id": "correct-diabetes",
   "metadata": {},
   "outputs": [
    {
     "data": {
      "text/plain": [
       "61223"
      ]
     },
     "execution_count": 332,
     "metadata": {},
     "output_type": "execute_result"
    }
   ],
   "source": [
    "len(filtered_author_papers)"
   ]
  },
  {
   "cell_type": "markdown",
   "id": "logical-mandate",
   "metadata": {},
   "source": [
    "# Build Network"
   ]
  },
  {
   "cell_type": "code",
   "execution_count": 333,
   "id": "desperate-appendix",
   "metadata": {},
   "outputs": [],
   "source": [
    "paper_dict = dict(enumerate(list(filtered_author_papers['sha'].unique())))\n",
    "paper_dict = {v:k for k,v in paper_dict.items()}"
   ]
  },
  {
   "cell_type": "code",
   "execution_count": 334,
   "id": "norman-dodge",
   "metadata": {},
   "outputs": [],
   "source": [
    "author_dict = dict(enumerate(list(filtered_author_papers['author_name'].unique())))\n",
    "author_dict = {v:k for k,v in author_dict.items()}"
   ]
  },
  {
   "cell_type": "code",
   "execution_count": 335,
   "id": "careful-billion",
   "metadata": {},
   "outputs": [],
   "source": [
    "author_paper_tuple = list(zip(filtered_author_papers['author_name'], filtered_author_papers['sha']))"
   ]
  },
  {
   "cell_type": "code",
   "execution_count": 336,
   "id": "executive-asset",
   "metadata": {},
   "outputs": [],
   "source": [
    "author_paper_tuple = [(author_dict[author], paper_dict[paper])for author, paper in author_paper_tuple]"
   ]
  },
  {
   "cell_type": "code",
   "execution_count": 337,
   "id": "identical-fitting",
   "metadata": {},
   "outputs": [],
   "source": [
    "from scipy.sparse import csc_matrix,lil_matrix"
   ]
  },
  {
   "cell_type": "code",
   "execution_count": 338,
   "id": "objective-finish",
   "metadata": {},
   "outputs": [],
   "source": [
    "#AP[i,j] = 1 indicates that author i published paper j\n",
    "AP = csc_matrix((np.ones(len(author_paper_tuple)), zip(*author_paper_tuple)))\n",
    "##AA[i,j] = 1 indicates that author i published a paper with author j\n",
    "AA = AP.dot(AP.T)"
   ]
  },
  {
   "cell_type": "code",
   "execution_count": 339,
   "id": "fifteen-fluid",
   "metadata": {},
   "outputs": [
    {
     "data": {
      "text/plain": [
       "<3822x3822 sparse matrix of type '<class 'numpy.float64'>'\n",
       "\twith 106332 stored elements in Compressed Sparse Column format>"
      ]
     },
     "execution_count": 339,
     "metadata": {},
     "output_type": "execute_result"
    }
   ],
   "source": [
    "AA"
   ]
  },
  {
   "cell_type": "code",
   "execution_count": 340,
   "id": "ranging-housing",
   "metadata": {},
   "outputs": [],
   "source": [
    "AA = AA.tolil()\n",
    "AA.setdiag(0)"
   ]
  },
  {
   "cell_type": "code",
   "execution_count": 341,
   "id": "charitable-dietary",
   "metadata": {},
   "outputs": [
    {
     "data": {
      "text/plain": [
       "<3822x3822 sparse matrix of type '<class 'numpy.float64'>'\n",
       "\twith 102510 stored elements in List of Lists format>"
      ]
     },
     "execution_count": 341,
     "metadata": {},
     "output_type": "execute_result"
    }
   ],
   "source": [
    "AA"
   ]
  },
  {
   "cell_type": "code",
   "execution_count": 342,
   "id": "associate-release",
   "metadata": {},
   "outputs": [],
   "source": [
    "#construct graph\n",
    "G = nx.convert_matrix.from_scipy_sparse_matrix(AA)"
   ]
  },
  {
   "cell_type": "markdown",
   "id": "appointed-actress",
   "metadata": {},
   "source": [
    "# Network Analysis"
   ]
  },
  {
   "cell_type": "code",
   "execution_count": 343,
   "id": "framed-portfolio",
   "metadata": {},
   "outputs": [],
   "source": [
    "degree = nx.degree(G)\n",
    "degree_centrality = nx.degree_centrality(G)\n",
    "eigenvector_centrality = nx.eigenvector_centrality(G,max_iter=3000)"
   ]
  },
  {
   "cell_type": "code",
   "execution_count": 344,
   "id": "beginning-jurisdiction",
   "metadata": {},
   "outputs": [],
   "source": [
    "df_author = pd.DataFrame(author_dict.items())\n",
    "df_author.columns= ['name','id']"
   ]
  },
  {
   "cell_type": "code",
   "execution_count": 345,
   "id": "assigned-friday",
   "metadata": {},
   "outputs": [],
   "source": [
    "df_author['degree'] = df_author['id'].apply(lambda x:degree[x])\n",
    "df_author['degree_centrality'] = df_author['id'].apply(lambda x:degree_centrality[x])\n",
    "df_author['eigenvector_centrality'] = df_author['id'].apply(lambda x:eigenvector_centrality[x])"
   ]
  },
  {
   "cell_type": "code",
   "execution_count": 346,
   "id": "formed-silly",
   "metadata": {},
   "outputs": [
    {
     "data": {
      "image/png": "[encoded data removed]",
      "text/plain": [
       "<Figure size 864x360 with 1 Axes>"
      ]
     },
     "metadata": {},
     "output_type": "display_data"
    }
   ],
   "source": [
    "plt.figure(figsize=(12, 5))\n",
    "plt.title('top10 degree')\n",
    "sns.barplot(data=df_author.sort_values('degree',ascending=False)[:10], \n",
    "            x='name', y='degree')\n",
    "plt.savefig('pic/top_10_degree.pdf')"
   ]
  },
  {
   "cell_type": "code",
   "execution_count": 347,
   "id": "architectural-oxide",
   "metadata": {},
   "outputs": [
    {
     "data": {
      "image/png": "[encoded data removed]",
      "text/plain": [
       "<Figure size 864x360 with 1 Axes>"
      ]
     },
     "metadata": {},
     "output_type": "display_data"
    }
   ],
   "source": [
    "plt.figure(figsize=(12, 5))\n",
    "\n",
    "plt.title('top10 degree centrality')\n",
    "sns.barplot(data=df_author.sort_values('degree_centrality',ascending=False)[:10], \n",
    "            x='name', y='degree_centrality')\n",
    "plt.savefig('pic/top_10_degree_centrality.pdf')"
   ]
  },
  {
   "cell_type": "code",
   "execution_count": 348,
   "id": "executive-variable",
   "metadata": {},
   "outputs": [
    {
     "data": {
      "image/png": "[encoded data removed]",
      "text/plain": [
       "<Figure size 864x360 with 1 Axes>"
      ]
     },
     "metadata": {},
     "output_type": "display_data"
    }
   ],
   "source": [
    "plt.figure(figsize=(12, 5))\n",
    "\n",
    "plt.title('top10 degree centrality')\n",
    "sns.barplot(data=df_author.sort_values('eigenvector_centrality',ascending=False)[:10], \n",
    "            x='name', y='eigenvector_centrality')\n",
    "plt.savefig('pic/top_10_eigen_centrality.pdf')"
   ]
  },
  {
   "cell_type": "markdown",
   "id": "unexpected-motel",
   "metadata": {},
   "source": [
    "# Community Detection"
   ]
  },
  {
   "cell_type": "code",
   "execution_count": 349,
   "id": "premium-leader",
   "metadata": {},
   "outputs": [],
   "source": [
    "import community as community_louvain"
   ]
  },
  {
   "cell_type": "code",
   "execution_count": 350,
   "id": "surprised-strike",
   "metadata": {},
   "outputs": [],
   "source": [
    "partition = community_louvain.best_partition(G)"
   ]
  },
  {
   "cell_type": "code",
   "execution_count": 351,
   "id": "colored-blake",
   "metadata": {},
   "outputs": [],
   "source": [
    "df_author['partition'] = df_author['id'].apply(lambda x:partition[x])"
   ]
  },
  {
   "cell_type": "code",
   "execution_count": 352,
   "id": "bacterial-matrix",
   "metadata": {},
   "outputs": [],
   "source": [
    "df_author = pd.merge(left=df_author, right= author_paper_cnt,how='left',left_on='name',right_on='author_name')\n",
    "df_author_sampled = df_author[df_author.paper_count >= 10]\n",
    "sampled_id = df_author_sampled.id.to_list()"
   ]
  },
  {
   "cell_type": "code",
   "execution_count": 357,
   "id": "impressed-stack",
   "metadata": {},
   "outputs": [
    {
     "data": {
      "text/plain": [
       "159"
      ]
     },
     "execution_count": 357,
     "metadata": {},
     "output_type": "execute_result"
    }
   ],
   "source": [
    "len(df_author.partition.unique())"
   ]
  },
  {
   "cell_type": "code",
   "execution_count": 353,
   "id": "complex-hypothetical",
   "metadata": {},
   "outputs": [],
   "source": [
    "top5_community = list(df_author.groupby(partition).id.count().sort_values(ascending=False)[:5].index)"
   ]
  },
  {
   "cell_type": "code",
   "execution_count": 400,
   "id": "modern-placement",
   "metadata": {},
   "outputs": [
    {
     "name": "stdout",
     "output_type": "stream",
     "text": [
      "\\begin{tabular}{ll}\n",
      "\\toprule\n",
      "{} &                                           name \\\\\n",
      "partition &                                                \\\\\n",
      "\\midrule\n",
      "0         &                 [Wang Wei, Zhang Wei, Liu Lei] \\\\\n",
      "3         &                        [Zhang Y, Wang Y, Li Y] \\\\\n",
      "4         &    [Zumla Alimu, Memish Ziada, Ippolito Giuse] \\\\\n",
      "61        &    [Baric Ralph, Krammer Flori, Diamond Micha] \\\\\n",
      "111       &  [Drosten Chris, Ciesek Sandr, Koopmans Mario] \\\\\n",
      "\\bottomrule\n",
      "\\end{tabular}\n",
      "\n"
     ]
    }
   ],
   "source": [
    "print(\n",
    "    df_author[\n",
    "    df_author.partition.isin(top5_community)].groupby(partition).apply(\n",
    "    lambda x: x.nlargest(3, 'paper_count')).reset_index()[['name','partition']].groupby('partition')['name'].apply(list).to_latex()\n",
    ")"
   ]
  },
  {
   "cell_type": "code",
   "execution_count": null,
   "id": "identical-detail",
   "metadata": {},
   "outputs": [],
   "source": []
  },
  {
   "cell_type": "code",
   "execution_count": 401,
   "id": "typical-precipitation",
   "metadata": {},
   "outputs": [
    {
     "data": {
      "image/png": "[encoded data removed]",
      "text/plain": [
       "<Figure size 432x288 with 1 Axes>"
      ]
     },
     "metadata": {},
     "output_type": "display_data"
    }
   ],
   "source": [
    "plt.title('Authors per Partition' )\n",
    "plt.xlabel('Number of Authors')\n",
    "plt.ylabel('Index of Partitons')\n",
    "df_author.groupby(partition).id.count().sort_values(ascending=False)[:10].plot(kind='barh')\n",
    "plt.savefig('./pic/author_per_partition.pdf')"
   ]
  },
  {
   "cell_type": "code",
   "execution_count": 170,
   "id": "growing-simulation",
   "metadata": {},
   "outputs": [
    {
     "data": {
      "image/png": "[encoded data removed]",
      "text/plain": [
       "<Figure size 432x288 with 1 Axes>"
      ]
     },
     "metadata": {},
     "output_type": "display_data"
    }
   ],
   "source": [
    "plt.title('Authors\\' Degree' )\n",
    "plt.xlabel('Authors\\' Degree')\n",
    "plt.ylabel('Number of Authors')\n",
    "df_author['degree'].hist(bins=50)\n",
    "plt.savefig('./pic/author_degree.svg')"
   ]
  },
  {
   "cell_type": "code",
   "execution_count": 171,
   "id": "convinced-decimal",
   "metadata": {},
   "outputs": [
    {
     "data": {
      "image/png": "[encoded data removed]",
      "text/plain": [
       "<Figure size 432x288 with 1 Axes>"
      ]
     },
     "metadata": {},
     "output_type": "display_data"
    }
   ],
   "source": [
    "plt.title('Authors\\' Degree Centrality' )\n",
    "plt.xlabel('Authors\\' Degree Centrality')\n",
    "plt.ylabel('Number of Authors')\n",
    "df_author['degree_centrality'].hist(bins=50)\n",
    "plt.savefig('./pic/author_degree_centrality.svg')"
   ]
  },
  {
   "cell_type": "code",
   "execution_count": 275,
   "id": "subtle-induction",
   "metadata": {},
   "outputs": [
    {
     "name": "stderr",
     "output_type": "stream",
     "text": [
      "/Users/billy/opt/anaconda3/lib/python3.8/site-packages/sklearn/manifold/_spectral_embedding.py:236: UserWarning: Graph is not fully connected, spectral embedding may not work as expected.\n",
      "  warnings.warn(\"Graph is not fully connected, spectral embedding\"\n",
      "/Users/billy/opt/anaconda3/lib/python3.8/site-packages/sklearn/manifold/_spectral_embedding.py:236: UserWarning: Graph is not fully connected, spectral embedding may not work as expected.\n",
      "  warnings.warn(\"Graph is not fully connected, spectral embedding\"\n",
      "/Users/billy/opt/anaconda3/lib/python3.8/site-packages/sklearn/manifold/_spectral_embedding.py:236: UserWarning: Graph is not fully connected, spectral embedding may not work as expected.\n",
      "  warnings.warn(\"Graph is not fully connected, spectral embedding\"\n",
      "/Users/billy/opt/anaconda3/lib/python3.8/site-packages/sklearn/manifold/_spectral_embedding.py:236: UserWarning: Graph is not fully connected, spectral embedding may not work as expected.\n",
      "  warnings.warn(\"Graph is not fully connected, spectral embedding\"\n",
      "/Users/billy/opt/anaconda3/lib/python3.8/site-packages/sklearn/manifold/_spectral_embedding.py:236: UserWarning: Graph is not fully connected, spectral embedding may not work as expected.\n",
      "  warnings.warn(\"Graph is not fully connected, spectral embedding\"\n",
      "/Users/billy/opt/anaconda3/lib/python3.8/site-packages/sklearn/manifold/_spectral_embedding.py:236: UserWarning: Graph is not fully connected, spectral embedding may not work as expected.\n",
      "  warnings.warn(\"Graph is not fully connected, spectral embedding\"\n",
      "/Users/billy/opt/anaconda3/lib/python3.8/site-packages/sklearn/manifold/_spectral_embedding.py:236: UserWarning: Graph is not fully connected, spectral embedding may not work as expected.\n",
      "  warnings.warn(\"Graph is not fully connected, spectral embedding\"\n",
      "/Users/billy/opt/anaconda3/lib/python3.8/site-packages/sklearn/manifold/_spectral_embedding.py:236: UserWarning: Graph is not fully connected, spectral embedding may not work as expected.\n",
      "  warnings.warn(\"Graph is not fully connected, spectral embedding\"\n",
      "/Users/billy/opt/anaconda3/lib/python3.8/site-packages/sklearn/manifold/_spectral_embedding.py:236: UserWarning: Graph is not fully connected, spectral embedding may not work as expected.\n",
      "  warnings.warn(\"Graph is not fully connected, spectral embedding\"\n",
      "/Users/billy/opt/anaconda3/lib/python3.8/site-packages/sklearn/manifold/_spectral_embedding.py:236: UserWarning: Graph is not fully connected, spectral embedding may not work as expected.\n",
      "  warnings.warn(\"Graph is not fully connected, spectral embedding\"\n"
     ]
    }
   ],
   "source": [
    "modularity_dict = {}\n",
    "adj_mat = nx.adjacency_matrix(G)\n",
    "from sklearn.cluster import SpectralClustering\n",
    "for n_clusters in np.linspace(50,500,10):\n",
    "    n_clusters = int(n_clusters)\n",
    "    sc = SpectralClustering(n_clusters=n_clusters, affinity='precomputed', n_init=100)\n",
    "    sc.fit(adj_mat)\n",
    "    partitions_temp = sc.labels_\n",
    "    partitions_temp = {i:label for i, label in enumerate(partitions_temp)}\n",
    "    modularity_temp = community_louvain.modularity(partitions_temp, G)\n",
    "    modularity_dict[n_clusters] = modularity_temp"
   ]
  },
  {
   "cell_type": "code",
   "execution_count": 277,
   "id": "democratic-result",
   "metadata": {},
   "outputs": [
    {
     "data": {
      "text/plain": [
       "<matplotlib.collections.PathCollection at 0x7fb9871748e0>"
      ]
     },
     "execution_count": 277,
     "metadata": {},
     "output_type": "execute_result"
    },
    {
     "data": {
      "image/png": "[encoded data removed]",
      "text/plain": [
       "<Figure size 432x288 with 1 Axes>"
      ]
     },
     "metadata": {},
     "output_type": "display_data"
    }
   ],
   "source": [
    "plt.scatter(modularity_dict.keys(), modularity_dict.values())"
   ]
  },
  {
   "cell_type": "code",
   "execution_count": 278,
   "id": "nasty-variance",
   "metadata": {},
   "outputs": [
    {
     "data": {
      "text/plain": [
       "{50: 0.06048425985655537,\n",
       " 100: 0.5555917329196325,\n",
       " 150: 0.5514632146550708,\n",
       " 200: 0.49845788408735126,\n",
       " 250: 0.48063667110888475,\n",
       " 300: 0.6477007255319288,\n",
       " 350: 0.388271479580823,\n",
       " 400: 0.45691771037435897,\n",
       " 450: 0.42808372854628596,\n",
       " 500: 0.43058688102598736}"
      ]
     },
     "execution_count": 278,
     "metadata": {},
     "output_type": "execute_result"
    }
   ],
   "source": [
    "modularity_dict"
   ]
  },
  {
   "cell_type": "markdown",
   "id": "stopped-grounds",
   "metadata": {},
   "source": [
    "# TODO\n",
    "1. Visualization\n",
    "2. Other metrics \n",
    "3. Other algorithms \n",
    "4. With paper topic model"
   ]
  },
  {
   "cell_type": "code",
   "execution_count": null,
   "id": "caring-introduction",
   "metadata": {},
   "outputs": [],
   "source": []
  }
 ],
 "metadata": {
  "kernelspec": {
   "display_name": "Python 3",
   "language": "python",
   "name": "python3"
  },
  "language_info": {
   "codemirror_mode": {
    "name": "ipython",
    "version": 3
   },
   "file_extension": ".py",
   "mimetype": "text/x-python",
   "name": "python",
   "nbconvert_exporter": "python",
   "pygments_lexer": "ipython3",
   "version": "3.8.5"
  }
 },
 "nbformat": 4,
 "nbformat_minor": 5
}
