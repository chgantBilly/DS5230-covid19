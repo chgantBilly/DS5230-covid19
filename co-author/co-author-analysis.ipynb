{
 "cells": [
  {
   "cell_type": "code",
   "execution_count": 1,
   "id": "vocal-making",
   "metadata": {},
   "outputs": [],
   "source": [
    "import re\n",
    "import gc\n",
    "import numpy as np\n",
    "import matplotlib.pyplot as plt\n",
    "import pandas as pd\n",
    "import seaborn as sns\n",
    "import networkx as nx\n",
    "sns.set_style(\"ticks\")\n"
   ]
  },
  {
   "cell_type": "code",
   "execution_count": 2,
   "id": "integrated-football",
   "metadata": {},
   "outputs": [],
   "source": [
    "df = pd.read_csv('../data/metadata_with_tag.csv',\n",
    "                 dtype={'Microsoft Academic Paper ID': str,\n",
    "                        'pubmed_id': str})"
   ]
  },
  {
   "cell_type": "code",
   "execution_count": 3,
   "id": "headed-pricing",
   "metadata": {},
   "outputs": [],
   "source": [
    "df_covid = df[df.tag_disease_covid19]"
   ]
  },
  {
   "cell_type": "markdown",
   "id": "available-romance",
   "metadata": {},
   "source": [
    "# Preprocessing"
   ]
  },
  {
   "cell_type": "code",
   "execution_count": 4,
   "id": "incomplete-bathroom",
   "metadata": {},
   "outputs": [],
   "source": [
    "df['authors_list'] = df.authors.str.split(\";\")"
   ]
  },
  {
   "cell_type": "code",
   "execution_count": 5,
   "id": "distributed-terror",
   "metadata": {},
   "outputs": [],
   "source": [
    "author_papers = df.explode('authors_list')[['authors_list','sha']]\n",
    "author_papers.columns = ['author_name','sha']\n",
    "author_papers = author_papers.dropna()"
   ]
  },
  {
   "cell_type": "code",
   "execution_count": 6,
   "id": "preliminary-record",
   "metadata": {},
   "outputs": [
    {
     "data": {
      "text/html": [
       "<div>\n",
       "<style scoped>\n",
       "    .dataframe tbody tr th:only-of-type {\n",
       "        vertical-align: middle;\n",
       "    }\n",
       "\n",
       "    .dataframe tbody tr th {\n",
       "        vertical-align: top;\n",
       "    }\n",
       "\n",
       "    .dataframe thead th {\n",
       "        text-align: right;\n",
       "    }\n",
       "</style>\n",
       "<table border=\"1\" class=\"dataframe\">\n",
       "  <thead>\n",
       "    <tr style=\"text-align: right;\">\n",
       "      <th></th>\n",
       "      <th>author_name</th>\n",
       "      <th>sha</th>\n",
       "    </tr>\n",
       "  </thead>\n",
       "  <tbody>\n",
       "    <tr>\n",
       "      <th>0</th>\n",
       "      <td>Madani, Tariq A</td>\n",
       "      <td>d1aafb70c066a2068b02786f8929fd9c900897fb</td>\n",
       "    </tr>\n",
       "    <tr>\n",
       "      <th>0</th>\n",
       "      <td>Al-Ghamdi, Aisha A</td>\n",
       "      <td>d1aafb70c066a2068b02786f8929fd9c900897fb</td>\n",
       "    </tr>\n",
       "    <tr>\n",
       "      <th>1</th>\n",
       "      <td>Vliet, Albert van der</td>\n",
       "      <td>6b0567729c2143a66d737eb0a2f63f2dce2e5a7d</td>\n",
       "    </tr>\n",
       "    <tr>\n",
       "      <th>1</th>\n",
       "      <td>Eiserich, Jason P</td>\n",
       "      <td>6b0567729c2143a66d737eb0a2f63f2dce2e5a7d</td>\n",
       "    </tr>\n",
       "    <tr>\n",
       "      <th>1</th>\n",
       "      <td>Cross, Carroll E</td>\n",
       "      <td>6b0567729c2143a66d737eb0a2f63f2dce2e5a7d</td>\n",
       "    </tr>\n",
       "    <tr>\n",
       "      <th>2</th>\n",
       "      <td>Crouch, Erika C</td>\n",
       "      <td>06ced00a5fc04215949aa72528f2eeaae1d58927</td>\n",
       "    </tr>\n",
       "    <tr>\n",
       "      <th>3</th>\n",
       "      <td>Fagan, Karen A</td>\n",
       "      <td>348055649b6b8cf2b9a376498df9bf41f7123605</td>\n",
       "    </tr>\n",
       "    <tr>\n",
       "      <th>3</th>\n",
       "      <td>McMurtry, Ivan F</td>\n",
       "      <td>348055649b6b8cf2b9a376498df9bf41f7123605</td>\n",
       "    </tr>\n",
       "    <tr>\n",
       "      <th>3</th>\n",
       "      <td>Rodman, David M</td>\n",
       "      <td>348055649b6b8cf2b9a376498df9bf41f7123605</td>\n",
       "    </tr>\n",
       "    <tr>\n",
       "      <th>4</th>\n",
       "      <td>Domachowske, Joseph B</td>\n",
       "      <td>5f48792a5fa08bed9f56016f4981ae2ca6031b32</td>\n",
       "    </tr>\n",
       "  </tbody>\n",
       "</table>\n",
       "</div>"
      ],
      "text/plain": [
       "             author_name                                       sha\n",
       "0        Madani, Tariq A  d1aafb70c066a2068b02786f8929fd9c900897fb\n",
       "0     Al-Ghamdi, Aisha A  d1aafb70c066a2068b02786f8929fd9c900897fb\n",
       "1  Vliet, Albert van der  6b0567729c2143a66d737eb0a2f63f2dce2e5a7d\n",
       "1      Eiserich, Jason P  6b0567729c2143a66d737eb0a2f63f2dce2e5a7d\n",
       "1       Cross, Carroll E  6b0567729c2143a66d737eb0a2f63f2dce2e5a7d\n",
       "2        Crouch, Erika C  06ced00a5fc04215949aa72528f2eeaae1d58927\n",
       "3         Fagan, Karen A  348055649b6b8cf2b9a376498df9bf41f7123605\n",
       "3       McMurtry, Ivan F  348055649b6b8cf2b9a376498df9bf41f7123605\n",
       "3        Rodman, David M  348055649b6b8cf2b9a376498df9bf41f7123605\n",
       "4  Domachowske, Joseph B  5f48792a5fa08bed9f56016f4981ae2ca6031b32"
      ]
     },
     "execution_count": 6,
     "metadata": {},
     "output_type": "execute_result"
    }
   ],
   "source": [
    "author_papers.head(10)"
   ]
  },
  {
   "cell_type": "markdown",
   "id": "colored-biotechnology",
   "metadata": {},
   "source": [
    "## Generalize Names"
   ]
  },
  {
   "cell_type": "code",
   "execution_count": 7,
   "id": "continent-brook",
   "metadata": {},
   "outputs": [],
   "source": [
    "author_papers['author_name'] = author_papers['author_name'].str.replace(\" \", \"\").str.replace(\".\",\"\").str.replace(',',', ')"
   ]
  },
  {
   "cell_type": "code",
   "execution_count": 8,
   "id": "resident-projection",
   "metadata": {},
   "outputs": [],
   "source": [
    "from mlxtend.text import generalize_names"
   ]
  },
  {
   "cell_type": "code",
   "execution_count": 9,
   "id": "further-executive",
   "metadata": {},
   "outputs": [
    {
     "ename": "KeyboardInterrupt",
     "evalue": "",
     "output_type": "error",
     "traceback": [
      "\u001b[0;31m---------------------------------------------------------------------------\u001b[0m",
      "\u001b[0;31mKeyboardInterrupt\u001b[0m                         Traceback (most recent call last)",
      "\u001b[0;32m<ipython-input-9-240419fa7886>\u001b[0m in \u001b[0;36m<module>\u001b[0;34m\u001b[0m\n\u001b[1;32m      3\u001b[0m     unqiue_count.append(\n\u001b[1;32m      4\u001b[0m         len(\n\u001b[0;32m----> 5\u001b[0;31m             author_papers['author_name'].apply(\n\u001b[0m\u001b[1;32m      6\u001b[0m                 lambda x: generalize_names(x, firstname_output_letters=letters))\n\u001b[1;32m      7\u001b[0m             .unique()))\n",
      "\u001b[0;32m~/opt/anaconda3/lib/python3.8/site-packages/pandas/core/series.py\u001b[0m in \u001b[0;36mapply\u001b[0;34m(self, func, convert_dtype, args, **kwds)\u001b[0m\n\u001b[1;32m   4211\u001b[0m             \u001b[0;32melse\u001b[0m\u001b[0;34m:\u001b[0m\u001b[0;34m\u001b[0m\u001b[0;34m\u001b[0m\u001b[0m\n\u001b[1;32m   4212\u001b[0m                 \u001b[0mvalues\u001b[0m \u001b[0;34m=\u001b[0m \u001b[0mself\u001b[0m\u001b[0;34m.\u001b[0m\u001b[0mastype\u001b[0m\u001b[0;34m(\u001b[0m\u001b[0mobject\u001b[0m\u001b[0;34m)\u001b[0m\u001b[0;34m.\u001b[0m\u001b[0m_values\u001b[0m\u001b[0;34m\u001b[0m\u001b[0;34m\u001b[0m\u001b[0m\n\u001b[0;32m-> 4213\u001b[0;31m                 \u001b[0mmapped\u001b[0m \u001b[0;34m=\u001b[0m \u001b[0mlib\u001b[0m\u001b[0;34m.\u001b[0m\u001b[0mmap_infer\u001b[0m\u001b[0;34m(\u001b[0m\u001b[0mvalues\u001b[0m\u001b[0;34m,\u001b[0m \u001b[0mf\u001b[0m\u001b[0;34m,\u001b[0m \u001b[0mconvert\u001b[0m\u001b[0;34m=\u001b[0m\u001b[0mconvert_dtype\u001b[0m\u001b[0;34m)\u001b[0m\u001b[0;34m\u001b[0m\u001b[0;34m\u001b[0m\u001b[0m\n\u001b[0m\u001b[1;32m   4214\u001b[0m \u001b[0;34m\u001b[0m\u001b[0m\n\u001b[1;32m   4215\u001b[0m         \u001b[0;32mif\u001b[0m \u001b[0mlen\u001b[0m\u001b[0;34m(\u001b[0m\u001b[0mmapped\u001b[0m\u001b[0;34m)\u001b[0m \u001b[0;32mand\u001b[0m \u001b[0misinstance\u001b[0m\u001b[0;34m(\u001b[0m\u001b[0mmapped\u001b[0m\u001b[0;34m[\u001b[0m\u001b[0;36m0\u001b[0m\u001b[0;34m]\u001b[0m\u001b[0;34m,\u001b[0m \u001b[0mSeries\u001b[0m\u001b[0;34m)\u001b[0m\u001b[0;34m:\u001b[0m\u001b[0;34m\u001b[0m\u001b[0;34m\u001b[0m\u001b[0m\n",
      "\u001b[0;32mpandas/_libs/lib.pyx\u001b[0m in \u001b[0;36mpandas._libs.lib.map_infer\u001b[0;34m()\u001b[0m\n",
      "\u001b[0;32m<ipython-input-9-240419fa7886>\u001b[0m in \u001b[0;36m<lambda>\u001b[0;34m(x)\u001b[0m\n\u001b[1;32m      4\u001b[0m         len(\n\u001b[1;32m      5\u001b[0m             author_papers['author_name'].apply(\n\u001b[0;32m----> 6\u001b[0;31m                 lambda x: generalize_names(x, firstname_output_letters=letters))\n\u001b[0m\u001b[1;32m      7\u001b[0m             .unique()))\n",
      "\u001b[0;32m~/opt/anaconda3/lib/python3.8/site-packages/mlxtend/text/names.py\u001b[0m in \u001b[0;36mgeneralize_names\u001b[0;34m(name, output_sep, firstname_output_letters)\u001b[0m\n\u001b[1;32m     72\u001b[0m         \u001b[0mlast_pos\u001b[0m \u001b[0;34m=\u001b[0m \u001b[0;36m1\u001b[0m\u001b[0;34m\u001b[0m\u001b[0;34m\u001b[0m\u001b[0m\n\u001b[1;32m     73\u001b[0m \u001b[0;34m\u001b[0m\u001b[0m\n\u001b[0;32m---> 74\u001b[0;31m     \u001b[0mspl\u001b[0m \u001b[0;34m=\u001b[0m \u001b[0mname\u001b[0m\u001b[0;34m.\u001b[0m\u001b[0msplit\u001b[0m\u001b[0;34m(\u001b[0m\u001b[0;34m)\u001b[0m\u001b[0;34m\u001b[0m\u001b[0;34m\u001b[0m\u001b[0m\n\u001b[0m\u001b[1;32m     75\u001b[0m     \u001b[0;32mif\u001b[0m \u001b[0mlen\u001b[0m\u001b[0;34m(\u001b[0m\u001b[0mspl\u001b[0m\u001b[0;34m)\u001b[0m \u001b[0;34m>\u001b[0m \u001b[0;36m2\u001b[0m\u001b[0;34m:\u001b[0m\u001b[0;34m\u001b[0m\u001b[0;34m\u001b[0m\u001b[0m\n\u001b[1;32m     76\u001b[0m         \u001b[0mname\u001b[0m \u001b[0;34m=\u001b[0m \u001b[0;34m'%s %s'\u001b[0m \u001b[0;34m%\u001b[0m \u001b[0;34m(\u001b[0m\u001b[0mspl\u001b[0m\u001b[0;34m[\u001b[0m\u001b[0;36m0\u001b[0m\u001b[0;34m]\u001b[0m\u001b[0;34m,\u001b[0m \u001b[0mspl\u001b[0m\u001b[0;34m[\u001b[0m\u001b[0mlast_pos\u001b[0m\u001b[0;34m]\u001b[0m\u001b[0;34m)\u001b[0m\u001b[0;34m\u001b[0m\u001b[0;34m\u001b[0m\u001b[0m\n",
      "\u001b[0;31mKeyboardInterrupt\u001b[0m: "
     ]
    }
   ],
   "source": [
    "unqiue_count =[]\n",
    "for letters in range(1,20,2):\n",
    "    unqiue_count.append(\n",
    "        len(\n",
    "            author_papers['author_name'].apply(\n",
    "                lambda x: generalize_names(x, firstname_output_letters=letters))\n",
    "            .unique()))"
   ]
  },
  {
   "cell_type": "code",
   "execution_count": null,
   "id": "protected-plane",
   "metadata": {},
   "outputs": [],
   "source": [
    "sns.lineplot(list( range(1,20,2)), unqiue_count)"
   ]
  },
  {
   "cell_type": "code",
   "execution_count": 10,
   "id": "fifteen-group",
   "metadata": {},
   "outputs": [],
   "source": [
    "author_papers['author_name'] = author_papers['author_name'].apply(\n",
    "                lambda x: generalize_names(x, firstname_output_letters=5))"
   ]
  },
  {
   "cell_type": "code",
   "execution_count": 11,
   "id": "expected-procurement",
   "metadata": {},
   "outputs": [
    {
     "data": {
      "text/plain": [
       "count     1.218020e+06\n",
       "mean      1.094845e+01\n",
       "std       3.585698e+00\n",
       "min       0.000000e+00\n",
       "50%       1.100000e+01\n",
       "85%       1.400000e+01\n",
       "90%       1.500000e+01\n",
       "95%       1.700000e+01\n",
       "99%       2.100000e+01\n",
       "99.5%     2.200000e+01\n",
       "99.9%     2.500000e+01\n",
       "99.95%    2.600000e+01\n",
       "max       9.800000e+01\n",
       "Name: author_name, dtype: float64"
      ]
     },
     "execution_count": 11,
     "metadata": {},
     "output_type": "execute_result"
    }
   ],
   "source": [
    "author_papers['author_name'].str.len().describe(percentiles=[.85,.9,.95,0.99,0.995,0.999,0.9995])"
   ]
  },
  {
   "cell_type": "code",
   "execution_count": 12,
   "id": "environmental-tuition",
   "metadata": {},
   "outputs": [],
   "source": [
    "author_papers = author_papers[(author_papers['author_name'].str.len() <= 25) \n",
    "                              & (author_papers['author_name'].str.len() > 0) \n",
    "                              & (author_papers['sha'] != False)\n",
    "                              & (author_papers['author_name'] != 'false')]\n",
    "\n",
    "author_papers['author_name'] = author_papers['author_name'].apply(lambda x:x.title())\n",
    "author_papers.to_csv('../data/author_papers.csv',index=False)"
   ]
  },
  {
   "cell_type": "code",
   "execution_count": 14,
   "id": "durable-enhancement",
   "metadata": {},
   "outputs": [],
   "source": [
    "covid_paper = list(df_covid.sha.unique())\n",
    "covid_author_paper = author_papers[author_papers.sha.isin(covid_paper)][['author_name','sha']]"
   ]
  },
  {
   "cell_type": "markdown",
   "id": "finnish-member",
   "metadata": {},
   "source": [
    "# EDA"
   ]
  },
  {
   "cell_type": "code",
   "execution_count": 15,
   "id": "military-booking",
   "metadata": {},
   "outputs": [
    {
     "data": {
      "image/png": "[encoded data removed]",
      "text/plain": [
       "<Figure size 432x288 with 1 Axes>"
      ]
     },
     "metadata": {},
     "output_type": "display_data"
    }
   ],
   "source": [
    "plt.title('Publications per Author')\n",
    "plt.xlabel('Number of Publications')\n",
    "plt.ylabel('Number of Authors')\n",
    "covid_author_paper.groupby('author_name')['sha'].count().hist(bins=50,log=True)\n",
    "plt.savefig('./pic/author_papers_hist.pdf')"
   ]
  },
  {
   "cell_type": "code",
   "execution_count": 16,
   "id": "after-ranch",
   "metadata": {},
   "outputs": [
    {
     "data": {
      "text/plain": [
       "count    365136.000000\n",
       "mean          1.701673\n",
       "std           2.107762\n",
       "min           1.000000\n",
       "50%           1.000000\n",
       "75%           2.000000\n",
       "90%           3.000000\n",
       "95%           4.000000\n",
       "99%          10.000000\n",
       "max         113.000000\n",
       "Name: sha, dtype: float64"
      ]
     },
     "execution_count": 16,
     "metadata": {},
     "output_type": "execute_result"
    }
   ],
   "source": [
    "covid_author_paper.groupby('author_name')['sha'].count().describe(percentiles=[0.75,0.9,0.95,0.99])"
   ]
  },
  {
   "cell_type": "code",
   "execution_count": 17,
   "id": "handy-steal",
   "metadata": {},
   "outputs": [
    {
     "data": {
      "text/plain": [
       "365136"
      ]
     },
     "execution_count": 17,
     "metadata": {},
     "output_type": "execute_result"
    }
   ],
   "source": [
    "len(covid_author_paper.author_name.unique())"
   ]
  },
  {
   "cell_type": "code",
   "execution_count": 18,
   "id": "ambient-heaven",
   "metadata": {},
   "outputs": [
    {
     "data": {
      "text/plain": [
       "3822"
      ]
     },
     "execution_count": 18,
     "metadata": {},
     "output_type": "execute_result"
    }
   ],
   "source": [
    "author_paper_cnt = covid_author_paper.groupby('author_name')['sha'].count()\n",
    "author_paper_cnt.name = 'paper_count'\n",
    "filtered_author_index = author_paper_cnt[author_paper_cnt >= 10].index.to_list()\n",
    "len(filtered_author_index)"
   ]
  },
  {
   "cell_type": "code",
   "execution_count": 19,
   "id": "injured-thomson",
   "metadata": {},
   "outputs": [],
   "source": [
    "filtered_author_papers = covid_author_paper[covid_author_paper['author_name'].isin(filtered_author_index)]"
   ]
  },
  {
   "cell_type": "code",
   "execution_count": 20,
   "id": "correct-diabetes",
   "metadata": {},
   "outputs": [
    {
     "data": {
      "text/plain": [
       "61223"
      ]
     },
     "execution_count": 20,
     "metadata": {},
     "output_type": "execute_result"
    }
   ],
   "source": [
    "len(filtered_author_papers)"
   ]
  },
  {
   "cell_type": "markdown",
   "id": "logical-mandate",
   "metadata": {},
   "source": [
    "# Build Network"
   ]
  },
  {
   "cell_type": "code",
   "execution_count": 21,
   "id": "desperate-appendix",
   "metadata": {},
   "outputs": [],
   "source": [
    "paper_dict = dict(enumerate(list(filtered_author_papers['sha'].unique())))\n",
    "paper_dict = {v:k for k,v in paper_dict.items()}"
   ]
  },
  {
   "cell_type": "code",
   "execution_count": 22,
   "id": "norman-dodge",
   "metadata": {},
   "outputs": [],
   "source": [
    "author_dict = dict(enumerate(list(filtered_author_papers['author_name'].unique())))\n",
    "author_dict = {v:k for k,v in author_dict.items()}"
   ]
  },
  {
   "cell_type": "code",
   "execution_count": 23,
   "id": "careful-billion",
   "metadata": {},
   "outputs": [],
   "source": [
    "author_paper_tuple = list(zip(filtered_author_papers['author_name'], filtered_author_papers['sha']))"
   ]
  },
  {
   "cell_type": "code",
   "execution_count": 24,
   "id": "executive-asset",
   "metadata": {},
   "outputs": [],
   "source": [
    "author_paper_tuple = [(author_dict[author], paper_dict[paper])for author, paper in author_paper_tuple]"
   ]
  },
  {
   "cell_type": "code",
   "execution_count": 25,
   "id": "identical-fitting",
   "metadata": {},
   "outputs": [],
   "source": [
    "from scipy.sparse import csc_matrix,lil_matrix"
   ]
  },
  {
   "cell_type": "code",
   "execution_count": 26,
   "id": "objective-finish",
   "metadata": {},
   "outputs": [],
   "source": [
    "#AP[i,j] = 1 indicates that author i published paper j\n",
    "AP = csc_matrix((np.ones(len(author_paper_tuple)), zip(*author_paper_tuple)))\n",
    "##AA[i,j] = 1 indicates that author i published a paper with author j\n",
    "AA = AP.dot(AP.T)"
   ]
  },
  {
   "cell_type": "code",
   "execution_count": 27,
   "id": "fifteen-fluid",
   "metadata": {},
   "outputs": [
    {
     "data": {
      "text/plain": [
       "<3822x3822 sparse matrix of type '<class 'numpy.float64'>'\n",
       "\twith 106332 stored elements in Compressed Sparse Column format>"
      ]
     },
     "execution_count": 27,
     "metadata": {},
     "output_type": "execute_result"
    }
   ],
   "source": [
    "AA"
   ]
  },
  {
   "cell_type": "code",
   "execution_count": 28,
   "id": "ranging-housing",
   "metadata": {},
   "outputs": [],
   "source": [
    "AA = AA.tolil()\n",
    "AA.setdiag(0)"
   ]
  },
  {
   "cell_type": "code",
   "execution_count": 29,
   "id": "charitable-dietary",
   "metadata": {},
   "outputs": [
    {
     "data": {
      "text/plain": [
       "<3822x3822 sparse matrix of type '<class 'numpy.float64'>'\n",
       "\twith 102510 stored elements in List of Lists format>"
      ]
     },
     "execution_count": 29,
     "metadata": {},
     "output_type": "execute_result"
    }
   ],
   "source": [
    "AA"
   ]
  },
  {
   "cell_type": "code",
   "execution_count": 43,
   "id": "associate-release",
   "metadata": {},
   "outputs": [],
   "source": [
    "#construct graph\n",
    "G = nx.convert_matrix.from_scipy_sparse_matrix(AA)"
   ]
  },
  {
   "cell_type": "markdown",
   "id": "appointed-actress",
   "metadata": {},
   "source": [
    "# Network Analysis"
   ]
  },
  {
   "cell_type": "code",
   "execution_count": 44,
   "id": "framed-portfolio",
   "metadata": {},
   "outputs": [],
   "source": [
    "degree = nx.degree(G)\n",
    "degree_centrality = nx.degree_centrality(G)\n",
    "eigenvector_centrality = nx.eigenvector_centrality(G,max_iter=3000)"
   ]
  },
  {
   "cell_type": "code",
   "execution_count": 45,
   "id": "beginning-jurisdiction",
   "metadata": {},
   "outputs": [],
   "source": [
    "df_author = pd.DataFrame(author_dict.items())\n",
    "df_author.columns= ['name','id']"
   ]
  },
  {
   "cell_type": "code",
   "execution_count": 46,
   "id": "assigned-friday",
   "metadata": {},
   "outputs": [],
   "source": [
    "df_author['degree'] = df_author['id'].apply(lambda x:degree[x])\n",
    "df_author['degree_centrality'] = df_author['id'].apply(lambda x:degree_centrality[x])\n",
    "df_author['eigenvector_centrality'] = df_author['id'].apply(lambda x:eigenvector_centrality[x])"
   ]
  },
  {
   "cell_type": "code",
   "execution_count": 47,
   "id": "formed-silly",
   "metadata": {},
   "outputs": [
    {
     "data": {
      "image/png": "[encoded data removed]",
      "text/plain": [
       "<Figure size 864x360 with 1 Axes>"
      ]
     },
     "metadata": {},
     "output_type": "display_data"
    }
   ],
   "source": [
    "plt.figure(figsize=(12, 5))\n",
    "plt.title('top10 degree')\n",
    "sns.barplot(data=df_author.sort_values('degree',ascending=False)[:10], \n",
    "            x='name', y='degree')\n",
    "plt.savefig('pic/top_10_degree.pdf')"
   ]
  },
  {
   "cell_type": "code",
   "execution_count": 48,
   "id": "architectural-oxide",
   "metadata": {},
   "outputs": [
    {
     "data": {
      "image/png": "[encoded data removed]",
      "text/plain": [
       "<Figure size 864x360 with 1 Axes>"
      ]
     },
     "metadata": {},
     "output_type": "display_data"
    }
   ],
   "source": [
    "plt.figure(figsize=(12, 5))\n",
    "\n",
    "plt.title('top10 degree centrality')\n",
    "sns.barplot(data=df_author.sort_values('degree_centrality',ascending=False)[:10], \n",
    "            x='name', y='degree_centrality')\n",
    "plt.savefig('pic/top_10_degree_centrality.pdf')"
   ]
  },
  {
   "cell_type": "code",
   "execution_count": 49,
   "id": "executive-variable",
   "metadata": {},
   "outputs": [
    {
     "data": {
      "image/png": "[encoded data removed]",
      "text/plain": [
       "<Figure size 864x360 with 1 Axes>"
      ]
     },
     "metadata": {},
     "output_type": "display_data"
    }
   ],
   "source": [
    "plt.figure(figsize=(12, 5))\n",
    "\n",
    "plt.title('top10 degree centrality')\n",
    "sns.barplot(data=df_author.sort_values('eigenvector_centrality',ascending=False)[:10], \n",
    "            x='name', y='eigenvector_centrality')\n",
    "plt.savefig('pic/top_10_eigen_centrality.pdf')"
   ]
  },
  {
   "cell_type": "markdown",
   "id": "unexpected-motel",
   "metadata": {},
   "source": [
    "# Community Detection"
   ]
  },
  {
   "cell_type": "code",
   "execution_count": 50,
   "id": "premium-leader",
   "metadata": {},
   "outputs": [],
   "source": [
    "import community as community_louvain"
   ]
  },
  {
   "cell_type": "code",
   "execution_count": 51,
   "id": "surprised-strike",
   "metadata": {},
   "outputs": [],
   "source": [
    "partition = community_louvain.best_partition(G)"
   ]
  },
  {
   "cell_type": "code",
   "execution_count": 52,
   "id": "colored-blake",
   "metadata": {},
   "outputs": [],
   "source": [
    "df_author['partition'] = df_author['id'].apply(lambda x:partition[x])"
   ]
  },
  {
   "cell_type": "code",
   "execution_count": 53,
   "id": "bacterial-matrix",
   "metadata": {},
   "outputs": [],
   "source": [
    "df_author = pd.merge(left=df_author, right= author_paper_cnt,how='left',left_on='name',right_on='author_name')\n",
    "df_author_sampled = df_author[df_author.paper_count >= 10]\n",
    "sampled_id = df_author_sampled.id.to_list()"
   ]
  },
  {
   "cell_type": "code",
   "execution_count": 54,
   "id": "impressed-stack",
   "metadata": {},
   "outputs": [
    {
     "data": {
      "text/html": [
       "<div>\n",
       "<style scoped>\n",
       "    .dataframe tbody tr th:only-of-type {\n",
       "        vertical-align: middle;\n",
       "    }\n",
       "\n",
       "    .dataframe tbody tr th {\n",
       "        vertical-align: top;\n",
       "    }\n",
       "\n",
       "    .dataframe thead th {\n",
       "        text-align: right;\n",
       "    }\n",
       "</style>\n",
       "<table border=\"1\" class=\"dataframe\">\n",
       "  <thead>\n",
       "    <tr style=\"text-align: right;\">\n",
       "      <th></th>\n",
       "      <th>name</th>\n",
       "      <th>id</th>\n",
       "      <th>degree</th>\n",
       "      <th>degree_centrality</th>\n",
       "      <th>eigenvector_centrality</th>\n",
       "      <th>partition</th>\n",
       "      <th>paper_count</th>\n",
       "    </tr>\n",
       "  </thead>\n",
       "  <tbody>\n",
       "    <tr>\n",
       "      <th>0</th>\n",
       "      <td>Zhang Sheng</td>\n",
       "      <td>0</td>\n",
       "      <td>73</td>\n",
       "      <td>0.019105</td>\n",
       "      <td>0.038838</td>\n",
       "      <td>0</td>\n",
       "      <td>45</td>\n",
       "    </tr>\n",
       "    <tr>\n",
       "      <th>1</th>\n",
       "      <td>Chen Decha</td>\n",
       "      <td>1</td>\n",
       "      <td>39</td>\n",
       "      <td>0.010207</td>\n",
       "      <td>0.020942</td>\n",
       "      <td>0</td>\n",
       "      <td>14</td>\n",
       "    </tr>\n",
       "    <tr>\n",
       "      <th>2</th>\n",
       "      <td>Wang Li</td>\n",
       "      <td>2</td>\n",
       "      <td>122</td>\n",
       "      <td>0.031929</td>\n",
       "      <td>0.054696</td>\n",
       "      <td>0</td>\n",
       "      <td>45</td>\n",
       "    </tr>\n",
       "    <tr>\n",
       "      <th>3</th>\n",
       "      <td>Zhao Shi</td>\n",
       "      <td>3</td>\n",
       "      <td>30</td>\n",
       "      <td>0.007851</td>\n",
       "      <td>0.007378</td>\n",
       "      <td>1</td>\n",
       "      <td>45</td>\n",
       "    </tr>\n",
       "    <tr>\n",
       "      <th>4</th>\n",
       "      <td>Cao Peihu</td>\n",
       "      <td>4</td>\n",
       "      <td>16</td>\n",
       "      <td>0.004187</td>\n",
       "      <td>0.001835</td>\n",
       "      <td>1</td>\n",
       "      <td>16</td>\n",
       "    </tr>\n",
       "    <tr>\n",
       "      <th>...</th>\n",
       "      <td>...</td>\n",
       "      <td>...</td>\n",
       "      <td>...</td>\n",
       "      <td>...</td>\n",
       "      <td>...</td>\n",
       "      <td>...</td>\n",
       "      <td>...</td>\n",
       "    </tr>\n",
       "    <tr>\n",
       "      <th>3817</th>\n",
       "      <td>Shrihari Swath</td>\n",
       "      <td>3817</td>\n",
       "      <td>30</td>\n",
       "      <td>0.007851</td>\n",
       "      <td>0.003428</td>\n",
       "      <td>18</td>\n",
       "      <td>10</td>\n",
       "    </tr>\n",
       "    <tr>\n",
       "      <th>3818</th>\n",
       "      <td>Wang Yibin</td>\n",
       "      <td>3818</td>\n",
       "      <td>42</td>\n",
       "      <td>0.010992</td>\n",
       "      <td>0.018323</td>\n",
       "      <td>25</td>\n",
       "      <td>12</td>\n",
       "    </tr>\n",
       "    <tr>\n",
       "      <th>3819</th>\n",
       "      <td>Lin Sheng</td>\n",
       "      <td>3819</td>\n",
       "      <td>8</td>\n",
       "      <td>0.002094</td>\n",
       "      <td>0.002516</td>\n",
       "      <td>0</td>\n",
       "      <td>12</td>\n",
       "    </tr>\n",
       "    <tr>\n",
       "      <th>3820</th>\n",
       "      <td>Benvenuto Domen</td>\n",
       "      <td>3820</td>\n",
       "      <td>5</td>\n",
       "      <td>0.001309</td>\n",
       "      <td>0.000024</td>\n",
       "      <td>4</td>\n",
       "      <td>12</td>\n",
       "    </tr>\n",
       "    <tr>\n",
       "      <th>3821</th>\n",
       "      <td>Malhotra Atul</td>\n",
       "      <td>3821</td>\n",
       "      <td>7</td>\n",
       "      <td>0.001832</td>\n",
       "      <td>0.001614</td>\n",
       "      <td>0</td>\n",
       "      <td>10</td>\n",
       "    </tr>\n",
       "  </tbody>\n",
       "</table>\n",
       "<p>3822 rows × 7 columns</p>\n",
       "</div>"
      ],
      "text/plain": [
       "                 name    id  degree  degree_centrality  \\\n",
       "0         Zhang Sheng     0      73           0.019105   \n",
       "1          Chen Decha     1      39           0.010207   \n",
       "2             Wang Li     2     122           0.031929   \n",
       "3            Zhao Shi     3      30           0.007851   \n",
       "4           Cao Peihu     4      16           0.004187   \n",
       "...               ...   ...     ...                ...   \n",
       "3817   Shrihari Swath  3817      30           0.007851   \n",
       "3818       Wang Yibin  3818      42           0.010992   \n",
       "3819        Lin Sheng  3819       8           0.002094   \n",
       "3820  Benvenuto Domen  3820       5           0.001309   \n",
       "3821    Malhotra Atul  3821       7           0.001832   \n",
       "\n",
       "      eigenvector_centrality  partition  paper_count  \n",
       "0                   0.038838          0           45  \n",
       "1                   0.020942          0           14  \n",
       "2                   0.054696          0           45  \n",
       "3                   0.007378          1           45  \n",
       "4                   0.001835          1           16  \n",
       "...                      ...        ...          ...  \n",
       "3817                0.003428         18           10  \n",
       "3818                0.018323         25           12  \n",
       "3819                0.002516          0           12  \n",
       "3820                0.000024          4           12  \n",
       "3821                0.001614          0           10  \n",
       "\n",
       "[3822 rows x 7 columns]"
      ]
     },
     "execution_count": 54,
     "metadata": {},
     "output_type": "execute_result"
    }
   ],
   "source": [
    "df_author"
   ]
  },
  {
   "cell_type": "code",
   "execution_count": 55,
   "id": "complex-hypothetical",
   "metadata": {},
   "outputs": [],
   "source": [
    "top5_community = list(df_author.groupby(partition).id.count().sort_values(ascending=False)[:5].index)"
   ]
  },
  {
   "cell_type": "code",
   "execution_count": 56,
   "id": "modern-placement",
   "metadata": {},
   "outputs": [
    {
     "name": "stdout",
     "output_type": "stream",
     "text": [
      "\\begin{tabular}{ll}\n",
      "\\toprule\n",
      "{} &                                           name \\\\\n",
      "partition &                                                \\\\\n",
      "\\midrule\n",
      "0         &                 [Wang Wei, Zhang Wei, Liu Lei] \\\\\n",
      "3         &                        [Zhang Y, Wang Y, Li Y] \\\\\n",
      "4         &  [Zumla Alimu, Ippolito Giuse, Bassetti Matte] \\\\\n",
      "18        &         [Liu Yang, Baric Ralph, Krammer Flori] \\\\\n",
      "112       &       [Lee Chang, Drosten Chris, Ciesek Sandr] \\\\\n",
      "\\bottomrule\n",
      "\\end{tabular}\n",
      "\n"
     ]
    }
   ],
   "source": [
    "print(\n",
    "    df_author[\n",
    "    df_author.partition.isin(top5_community)].groupby(partition).apply(\n",
    "    lambda x: x.nlargest(3, 'paper_count')).reset_index()[['name','partition']].groupby('partition')['name'].apply(list).to_latex()\n",
    ")"
   ]
  },
  {
   "cell_type": "code",
   "execution_count": 57,
   "id": "typical-precipitation",
   "metadata": {},
   "outputs": [
    {
     "data": {
      "image/png": "[encoded data removed]",
      "text/plain": [
       "<Figure size 432x288 with 1 Axes>"
      ]
     },
     "metadata": {},
     "output_type": "display_data"
    }
   ],
   "source": [
    "plt.title('Authors per Partition' )\n",
    "plt.xlabel('Number of Authors')\n",
    "plt.ylabel('Index of Partitons')\n",
    "df_author.groupby(partition).id.count().sort_values(ascending=False)[:10].plot(kind='barh')\n",
    "plt.savefig('./pic/author_per_partition.pdf')"
   ]
  },
  {
   "cell_type": "code",
   "execution_count": 58,
   "id": "growing-simulation",
   "metadata": {},
   "outputs": [
    {
     "data": {
      "image/png": "[encoded data removed]",
      "text/plain": [
       "<Figure size 432x288 with 1 Axes>"
      ]
     },
     "metadata": {},
     "output_type": "display_data"
    }
   ],
   "source": [
    "plt.title('Authors\\' Degree' )\n",
    "plt.xlabel('Authors\\' Degree')\n",
    "plt.ylabel('Number of Authors')\n",
    "df_author['degree'].hist(bins=50)\n",
    "plt.savefig('./pic/author_degree.svg')"
   ]
  },
  {
   "cell_type": "code",
   "execution_count": 59,
   "id": "convinced-decimal",
   "metadata": {},
   "outputs": [
    {
     "data": {
      "image/png": "[encoded data removed]",
      "text/plain": [
       "<Figure size 432x288 with 1 Axes>"
      ]
     },
     "metadata": {},
     "output_type": "display_data"
    }
   ],
   "source": [
    "plt.title('Authors\\' Degree Centrality' )\n",
    "plt.xlabel('Authors\\' Degree Centrality')\n",
    "plt.ylabel('Number of Authors')\n",
    "df_author['degree_centrality'].hist(bins=50)\n",
    "plt.savefig('./pic/author_degree_centrality.svg')"
   ]
  },
  {
   "cell_type": "code",
   "execution_count": 275,
   "id": "subtle-induction",
   "metadata": {},
   "outputs": [
    {
     "name": "stderr",
     "output_type": "stream",
     "text": [
      "/Users/billy/opt/anaconda3/lib/python3.8/site-packages/sklearn/manifold/_spectral_embedding.py:236: UserWarning: Graph is not fully connected, spectral embedding may not work as expected.\n",
      "  warnings.warn(\"Graph is not fully connected, spectral embedding\"\n",
      "/Users/billy/opt/anaconda3/lib/python3.8/site-packages/sklearn/manifold/_spectral_embedding.py:236: UserWarning: Graph is not fully connected, spectral embedding may not work as expected.\n",
      "  warnings.warn(\"Graph is not fully connected, spectral embedding\"\n",
      "/Users/billy/opt/anaconda3/lib/python3.8/site-packages/sklearn/manifold/_spectral_embedding.py:236: UserWarning: Graph is not fully connected, spectral embedding may not work as expected.\n",
      "  warnings.warn(\"Graph is not fully connected, spectral embedding\"\n",
      "/Users/billy/opt/anaconda3/lib/python3.8/site-packages/sklearn/manifold/_spectral_embedding.py:236: UserWarning: Graph is not fully connected, spectral embedding may not work as expected.\n",
      "  warnings.warn(\"Graph is not fully connected, spectral embedding\"\n",
      "/Users/billy/opt/anaconda3/lib/python3.8/site-packages/sklearn/manifold/_spectral_embedding.py:236: UserWarning: Graph is not fully connected, spectral embedding may not work as expected.\n",
      "  warnings.warn(\"Graph is not fully connected, spectral embedding\"\n",
      "/Users/billy/opt/anaconda3/lib/python3.8/site-packages/sklearn/manifold/_spectral_embedding.py:236: UserWarning: Graph is not fully connected, spectral embedding may not work as expected.\n",
      "  warnings.warn(\"Graph is not fully connected, spectral embedding\"\n",
      "/Users/billy/opt/anaconda3/lib/python3.8/site-packages/sklearn/manifold/_spectral_embedding.py:236: UserWarning: Graph is not fully connected, spectral embedding may not work as expected.\n",
      "  warnings.warn(\"Graph is not fully connected, spectral embedding\"\n",
      "/Users/billy/opt/anaconda3/lib/python3.8/site-packages/sklearn/manifold/_spectral_embedding.py:236: UserWarning: Graph is not fully connected, spectral embedding may not work as expected.\n",
      "  warnings.warn(\"Graph is not fully connected, spectral embedding\"\n",
      "/Users/billy/opt/anaconda3/lib/python3.8/site-packages/sklearn/manifold/_spectral_embedding.py:236: UserWarning: Graph is not fully connected, spectral embedding may not work as expected.\n",
      "  warnings.warn(\"Graph is not fully connected, spectral embedding\"\n",
      "/Users/billy/opt/anaconda3/lib/python3.8/site-packages/sklearn/manifold/_spectral_embedding.py:236: UserWarning: Graph is not fully connected, spectral embedding may not work as expected.\n",
      "  warnings.warn(\"Graph is not fully connected, spectral embedding\"\n"
     ]
    }
   ],
   "source": [
    "modularity_dict = {}\n",
    "adj_mat = nx.adjacency_matrix(G)\n",
    "from sklearn.cluster import SpectralClustering\n",
    "for n_clusters in np.linspace(50,500,10):\n",
    "    n_clusters = int(n_clusters)\n",
    "    sc = SpectralClustering(n_clusters=n_clusters, affinity='precomputed', n_init=100)\n",
    "    sc.fit(adj_mat)\n",
    "    partitions_temp = sc.labels_\n",
    "    partitions_temp = {i:label for i, label in enumerate(partitions_temp)}\n",
    "    modularity_temp = community_louvain.modularity(partitions_temp, G)\n",
    "    modularity_dict[n_clusters] = modularity_temp"
   ]
  },
  {
   "cell_type": "code",
   "execution_count": 277,
   "id": "democratic-result",
   "metadata": {},
   "outputs": [
    {
     "data": {
      "text/plain": [
       "<matplotlib.collections.PathCollection at 0x7fb9871748e0>"
      ]
     },
     "execution_count": 277,
     "metadata": {},
     "output_type": "execute_result"
    },
    {
     "data": {
      "image/png": "[encoded data removed]",
      "text/plain": [
       "<Figure size 432x288 with 1 Axes>"
      ]
     },
     "metadata": {},
     "output_type": "display_data"
    }
   ],
   "source": [
    "plt.scatter(modularity_dict.keys(), modularity_dict.values())"
   ]
  },
  {
   "cell_type": "code",
   "execution_count": 278,
   "id": "nasty-variance",
   "metadata": {},
   "outputs": [
    {
     "data": {
      "text/plain": [
       "{50: 0.06048425985655537,\n",
       " 100: 0.5555917329196325,\n",
       " 150: 0.5514632146550708,\n",
       " 200: 0.49845788408735126,\n",
       " 250: 0.48063667110888475,\n",
       " 300: 0.6477007255319288,\n",
       " 350: 0.388271479580823,\n",
       " 400: 0.45691771037435897,\n",
       " 450: 0.42808372854628596,\n",
       " 500: 0.43058688102598736}"
      ]
     },
     "execution_count": 278,
     "metadata": {},
     "output_type": "execute_result"
    }
   ],
   "source": [
    "modularity_dict"
   ]
  },
  {
   "cell_type": "markdown",
   "id": "stopped-grounds",
   "metadata": {},
   "source": [
    "# TODO\n",
    "1. Visualization\n",
    "2. Other metrics \n",
    "3. Other algorithms \n",
    "4. With paper topic model"
   ]
  },
  {
   "cell_type": "code",
   "execution_count": null,
   "id": "caring-introduction",
   "metadata": {},
   "outputs": [],
   "source": []
  },
  {
   "cell_type": "code",
   "execution_count": 314,
   "id": "983a5285-bd66-4b57-9d95-3a9ff10df7a5",
   "metadata": {},
   "outputs": [],
   "source": [
    "import bokeh\n",
    "from bokeh.models import ColumnDataSource, HoverTool, LinearColorMapper, CustomJS, Slider, TapTool, TextInput, WheelZoomTool, NodesAndLinkedEdges, NodesOnly\n",
    "from bokeh.palettes import Turbo256\n",
    "from bokeh.transform import linear_cmap, transform\n",
    "from bokeh.io import output_file, show, output_notebook\n",
    "from bokeh.plotting import figure\n",
    "from bokeh.models import RadioButtonGroup, TextInput, Div, Paragraph\n",
    "from bokeh.layouts import column, widgetbox, row, layout\n",
    "from bokeh.layouts import column"
   ]
  },
  {
   "cell_type": "code",
   "execution_count": 42,
   "id": "7c0826f1-3762-4621-b972-7d68653c7553",
   "metadata": {},
   "outputs": [],
   "source": [
    "# Prepare Data\n",
    "G = nx.karate_club_graph()\n",
    "\n",
    "SAME_CLUB_COLOR, DIFFERENT_CLUB_COLOR = \"black\", \"red\"\n",
    "edge_attrs = {}\n",
    "\n",
    "for start_node, end_node, _ in G.edges(data=True):\n",
    "    edge_color = SAME_CLUB_COLOR if G.nodes[start_node][\"club\"] == G.nodes[end_node][\"club\"] else DIFFERENT_CLUB_COLOR\n",
    "    edge_attrs[(start_node, end_node)] = edge_color\n",
    "\n",
    "nx.set_edge_attributes(G, edge_attrs, \"edge_color\")\n",
    "\n",
    "# Show with Bokeh\n",
    "plot = Plot(plot_width=400, plot_height=400,\n",
    "            x_range=Range1d(-1.1, 1.1), y_range=Range1d(-1.1, 1.1))\n",
    "plot.title.text = \"Graph Interaction Demonstration\"\n",
    "\n",
    "node_hover_tool = HoverTool(tooltips=[(\"index\", \"@index\"), (\"club\", \"@club\")])\n",
    "plot.add_tools(node_hover_tool, BoxZoomTool(), ResetTool())\n",
    "\n",
    "graph_renderer = from_networkx(G, nx.spring_layout, scale=1, center=(0, 0))\n",
    "\n",
    "graph_renderer.node_renderer.glyph = Circle(size=15, fill_color=Spectral4[0])\n",
    "graph_renderer.edge_renderer.glyph = MultiLine(line_color=\"edge_color\", line_alpha=0.8, line_width=1)\n",
    "plot.renderers.append(graph_renderer)\n",
    "\n",
    "output_file(\"interactive_graphs.html\")\n",
    "show(plot)\n"
   ]
  },
  {
   "cell_type": "code",
   "execution_count": 252,
   "id": "43f3023c-a172-4c4d-ba5a-5af8d41f6d33",
   "metadata": {},
   "outputs": [],
   "source": [
    "df_author['size'] = df_author['degree'].apply(lambda x: 4 * int(np.log(x)) if x > 0 else 0)"
   ]
  },
  {
   "cell_type": "code",
   "execution_count": 253,
   "id": "c3a0cd7a-2da4-479c-b338-2567fda15ed3",
   "metadata": {},
   "outputs": [
    {
     "data": {
      "text/plain": [
       "count    3822.000000\n",
       "mean        9.176347\n",
       "std         4.466138\n",
       "min         0.000000\n",
       "25%         8.000000\n",
       "50%         8.000000\n",
       "75%        12.000000\n",
       "max        20.000000\n",
       "Name: size, dtype: float64"
      ]
     },
     "execution_count": 253,
     "metadata": {},
     "output_type": "execute_result"
    }
   ],
   "source": [
    "df_author['size'].describe()"
   ]
  },
  {
   "cell_type": "code",
   "execution_count": 254,
   "id": "30ec6ad2-056f-4775-99a1-67348d65b030",
   "metadata": {},
   "outputs": [],
   "source": [
    "node_attr = df_author[['name','degree','paper_count','partition','size']].to_dict(orient='index')"
   ]
  },
  {
   "cell_type": "code",
   "execution_count": null,
   "id": "fa142335-bb89-413e-a862-de6785889777",
   "metadata": {},
   "outputs": [],
   "source": []
  },
  {
   "cell_type": "code",
   "execution_count": 255,
   "id": "7bd63bc2-d13c-48f3-a672-ac9e746a0805",
   "metadata": {},
   "outputs": [],
   "source": [
    "nx.set_node_attributes(G,values=node_attr)"
   ]
  },
  {
   "cell_type": "code",
   "execution_count": 256,
   "id": "d10a6f81-23e5-4dc8-820b-a4d6d21b7f74",
   "metadata": {},
   "outputs": [],
   "source": [
    "SAME_PARTITION_COLOR, DIFFEREENT_PARTITION_COLOR = \"black\", \"red\""
   ]
  },
  {
   "cell_type": "code",
   "execution_count": 257,
   "id": "6efff6fd-fb81-4ce3-9d87-4b8c9627c759",
   "metadata": {},
   "outputs": [],
   "source": [
    "for start_node, end_node, _ in G.edges(data=True):\n",
    "    edge_color = SAME_CLUB_COLOR if G.nodes[start_node][\"partition\"] == G.nodes[end_node][\"partition\"] else DIFFERENT_CLUB_COLOR\n",
    "    edge_attrs[(start_node, end_node)] = edge_color"
   ]
  },
  {
   "cell_type": "code",
   "execution_count": 258,
   "id": "6d51b152-b078-4e7c-a6a2-1bb6aa62e425",
   "metadata": {},
   "outputs": [],
   "source": [
    "nx.set_edge_attributes(G, edge_attrs, 'edge_color')"
   ]
  },
  {
   "cell_type": "code",
   "execution_count": 266,
   "id": "09cd82c1-adca-4c22-bea8-5385c745a52a",
   "metadata": {},
   "outputs": [],
   "source": [
    "sub_nodes = [n for n in dict(degree) if dict(degree)[n] > 2]\n",
    "G_sub = G.subgraph(sub_nodes)"
   ]
  },
  {
   "cell_type": "code",
   "execution_count": 295,
   "id": "98c06c80-4a5d-479a-8a7a-0602872a1772",
   "metadata": {},
   "outputs": [],
   "source": [
    "plot = Plot(plot_width=1200, plot_height=850,\n",
    "            x_range=Range1d(-6.1, 6.1), y_range=Range1d(-6.1, 6.1))\n",
    "plot.title.text = \"Author Network\"\n",
    "node_hover_tool = HoverTool(tooltips=[(\"name\", \"@name\"), (\"degree\", \"@degree\"), ('paper count', \"@paper_count\"),('partition',\"@partition\")])\n",
    "plot.add_tools(node_hover_tool,WheelZoomTool(), BoxZoomTool(), ResetTool())"
   ]
  },
  {
   "cell_type": "code",
   "execution_count": 296,
   "id": "ff21bb0e-18f9-4c60-9a4d-c2cb97f772d2",
   "metadata": {},
   "outputs": [],
   "source": [
    "graph_renderer = from_networkx(G_sub, nx.spring_layout, scale=10, center=(0, 0))"
   ]
  },
  {
   "cell_type": "code",
   "execution_count": 310,
   "id": "cac5d6ef-2813-47f7-852d-817973c31072",
   "metadata": {},
   "outputs": [],
   "source": [
    "nodes_partition = [G_sub.nodes[n]['partition'] for n in G_sub.nodes()]\n",
    "partition_color = {j:i for i,j in enumerate(set(nodes_partition))}\n",
    "nodes_color = [partition_color[i] for i in nodes_partition]"
   ]
  },
  {
   "cell_type": "code",
   "execution_count": 311,
   "id": "1d257c0b-652c-4514-80ad-5512bb61b637",
   "metadata": {},
   "outputs": [],
   "source": [
    "graph_renderer.node_renderer.data_source.data['color'] = nodes_color\n",
    "nodes_fill_color = linear_cmap('color', 'Spectral8', min(nodes_color), max(nodes_color))\n",
    "graph_renderer.node_renderer.glyph = Circle(size='size', fill_color=nodes_fill_color)\n",
    "graph_renderer.node_renderer.selection_glyph = Circle(size='size', fill_color='white', line_width=2)\n",
    "graph_renderer.node_renderer.hover_glyph = Circle(size='size', fill_color='white', line_width=2)\n",
    "\n"
   ]
  },
  {
   "cell_type": "code",
   "execution_count": 315,
   "id": "ef98cab2-abce-40e8-801e-4962616dca3b",
   "metadata": {},
   "outputs": [],
   "source": [
    "graph_renderer.edge_renderer.glyph = MultiLine(line_color=\"edge_color\", line_alpha=0.1, line_width=1)\n",
    "graph_renderer.edge_renderer.selection_glyph = MultiLine(line_color='black',line_alpha=0.3, line_width=2)\n",
    "graph_renderer.edge_renderer.hover_glyph = MultiLine(line_color='black',line_alpha=0.3, line_width=2)\n",
    "\n",
    "graph_renderer.selection_policy = NodesOnly()\n",
    "graph_renderer.inspection_policy = NodesOnly()"
   ]
  },
  {
   "cell_type": "code",
   "execution_count": 316,
   "id": "6baf1bf0-388e-4283-907e-3bab1a356474",
   "metadata": {},
   "outputs": [],
   "source": [
    "plot.renderers.append(graph_renderer)\n",
    "\n",
    "output_file(\"author.html\")\n",
    "show(plot)"
   ]
  },
  {
   "cell_type": "code",
   "execution_count": null,
   "id": "2f001df6-cf04-40c1-9637-1752cba9862f",
   "metadata": {},
   "outputs": [],
   "source": []
  },
  {
   "cell_type": "code",
   "execution_count": 302,
   "id": "bdcae594-d8bd-4e4d-b985-0d48a3669f55",
   "metadata": {},
   "outputs": [
    {
     "data": {
      "text/plain": [
       "{'field': 'color', 'transform': LinearColorMapper(id='7016', ...)}"
      ]
     },
     "execution_count": 302,
     "metadata": {},
     "output_type": "execute_result"
    }
   ],
   "source": []
  },
  {
   "cell_type": "code",
   "execution_count": null,
   "id": "082b9f8b-0278-4f33-a5c0-f316758ab8a9",
   "metadata": {},
   "outputs": [],
   "source": []
  }
 ],
 "metadata": {
  "kernelspec": {
   "display_name": "Python 3",
   "language": "python",
   "name": "python3"
  },
  "language_info": {
   "codemirror_mode": {
    "name": "ipython",
    "version": 3
   },
   "file_extension": ".py",
   "mimetype": "text/x-python",
   "name": "python",
   "nbconvert_exporter": "python",
   "pygments_lexer": "ipython3",
   "version": "3.8.5"
  }
 },
 "nbformat": 4,
 "nbformat_minor": 5
}
